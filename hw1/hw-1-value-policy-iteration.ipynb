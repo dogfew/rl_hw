{
 "cells": [
  {
   "cell_type": "markdown",
   "metadata": {},
   "source": [
    "# Markov decision process\n",
    "\n",
    "This week's methods are all built to solve __M__arkov __D__ecision __P__rocesses. In the broadest sense, an MDP is defined by how it changes states and how rewards are computed.\n",
    "\n",
    "State transition is defined by $P(s' |s,a)$ - how likely are you to end at state $s'$ if you take action $a$ from state $s$. Now there's more than one way to define rewards, but we'll use $r(s,a,s')$ function for convenience.\n",
    "\n",
    "_This notebook is inspired by the awesome_ [CS294](https://github.com/berkeleydeeprlcourse/homework/blob/36a0b58261acde756abd55306fbe63df226bf62b/hw2/HW2.ipynb) _by Berkeley_"
   ]
  },
  {
   "cell_type": "markdown",
   "metadata": {},
   "source": [
    "For starters, let's define a simple MDP from this picture:\n",
    "\n",
    "<img src=\"https://upload.wikimedia.org/wikipedia/commons/a/ad/Markov_Decision_Process.svg\" width=\"400px\" alt=\"Diagram by Waldoalvarez via Wikimedia Commons, CC BY-SA 4.0\"/>"
   ]
  },
  {
   "cell_type": "code",
   "execution_count": 1,
   "metadata": {
    "tags": []
   },
   "outputs": [],
   "source": [
    "import numpy as np\n",
    "import matplotlib.pyplot as plt\n",
    "\n",
    "from time import sleep\n",
    "from mdp import MDP, has_graphviz, FrozenLakeEnv\n",
    "from IPython.display import display, clear_output\n",
    "\n",
    "%matplotlib inline"
   ]
  },
  {
   "cell_type": "code",
   "execution_count": 2,
   "metadata": {
    "tags": []
   },
   "outputs": [],
   "source": [
    "transition_probs = {\n",
    "    's0': {\n",
    "        'a0': {'s0': 0.5, 's2': 0.5},\n",
    "        'a1': {'s2': 1}\n",
    "    },\n",
    "    's1': {\n",
    "        'a0': {'s0': 0.7, 's1': 0.1, 's2': 0.2},\n",
    "        'a1': {'s1': 0.95, 's2': 0.05}\n",
    "    },\n",
    "    's2': {\n",
    "        'a0': {'s0': 0.4, 's2': 0.6},\n",
    "        'a1': {'s0': 0.3, 's1': 0.3, 's2': 0.4}\n",
    "    }\n",
    "}\n",
    "rewards = {\n",
    "    's1': {'a0': {'s0': +5}},\n",
    "    's2': {'a1': {'s0': -1}}\n",
    "}\n",
    "\n",
    "mdp = MDP(transition_probs, rewards, initial_state='s0')"
   ]
  },
  {
   "cell_type": "markdown",
   "metadata": {},
   "source": [
    "We can now use MDP just as any other gym environment:"
   ]
  },
  {
   "cell_type": "code",
   "execution_count": 3,
   "metadata": {
    "tags": []
   },
   "outputs": [
    {
     "name": "stdout",
     "output_type": "stream",
     "text": [
      "initial state = s0\n",
      "next_state = s2, reward = 0.0, done = False\n"
     ]
    }
   ],
   "source": [
    "print('initial state =', mdp.reset())\n",
    "next_state, reward, done, info = mdp.step('a1')\n",
    "print('next_state = %s, reward = %s, done = %s' % (next_state, reward, done))"
   ]
  },
  {
   "cell_type": "markdown",
   "metadata": {},
   "source": [
    "but it also has other methods that you'll need for Value Iteration"
   ]
  },
  {
   "cell_type": "code",
   "execution_count": 4,
   "metadata": {
    "tags": []
   },
   "outputs": [
    {
     "name": "stdout",
     "output_type": "stream",
     "text": [
      "mdp.get_all_states = ('s0', 's1', 's2')\n",
      "mdp.get_possible_actions('s1') =  ('a0', 'a1')\n",
      "mdp.get_next_states('s1', 'a0') =  {'s0': 0.7, 's1': 0.1, 's2': 0.2}\n",
      "mdp.get_reward('s1', 'a0', 's0') =  5\n",
      "mdp.get_transition_prob('s1', 'a0', 's0') =  0.7\n"
     ]
    }
   ],
   "source": [
    "print(\"mdp.get_all_states =\", mdp.get_all_states())\n",
    "print(\"mdp.get_possible_actions('s1') = \", mdp.get_possible_actions('s1'))\n",
    "print(\"mdp.get_next_states('s1', 'a0') = \", mdp.get_next_states('s1', 'a0'))\n",
    "print(\"mdp.get_reward('s1', 'a0', 's0') = \", mdp.get_reward('s1', 'a0', 's0'))\n",
    "print(\"mdp.get_transition_prob('s1', 'a0', 's0') = \",\n",
    "      mdp.get_transition_prob('s1', 'a0', 's0'))"
   ]
  },
  {
   "cell_type": "markdown",
   "metadata": {},
   "source": [
    "### Optional: Visualizing MDPs\n",
    "\n",
    "You can also visualize any MDP with the drawing fuction donated by [neer201](https://github.com/neer201).\n",
    "\n",
    "You have to install graphviz for system and for python. For ubuntu just run:\n",
    "\n",
    "1. `sudo apt-get install graphviz`\n",
    "2. `pip install graphviz`\n",
    "3. restart the notebook\n",
    "\n",
    "For windows this might work: `conda install -c conda-forge python-graphviz`. However, you can ignore this part alltogether and use the standard vizualization."
   ]
  },
  {
   "cell_type": "code",
   "execution_count": 5,
   "metadata": {
    "tags": []
   },
   "outputs": [
    {
     "name": "stdout",
     "output_type": "stream",
     "text": [
      "Graphviz available: True\n"
     ]
    }
   ],
   "source": [
    "print(\"Graphviz available:\", has_graphviz)"
   ]
  },
  {
   "cell_type": "code",
   "execution_count": 6,
   "metadata": {
    "tags": []
   },
   "outputs": [
    {
     "data": {
      "image/svg+xml": [
       "<?xml version=\"1.0\" encoding=\"UTF-8\" standalone=\"no\"?>\n",
       "<!DOCTYPE svg PUBLIC \"-//W3C//DTD SVG 1.1//EN\"\n",
       " \"http://www.w3.org/Graphics/SVG/1.1/DTD/svg11.dtd\">\n",
       "<!-- Generated by graphviz version 9.0.0 (0)\n",
       " -->\n",
       "<!-- Title: MDP Pages: 1 -->\n",
       "<svg width=\"1050pt\" height=\"273pt\"\n",
       " viewBox=\"0.00 0.00 1049.59 272.75\" xmlns=\"http://www.w3.org/2000/svg\" xmlns:xlink=\"http://www.w3.org/1999/xlink\">\n",
       "<g id=\"graph0\" class=\"graph\" transform=\"scale(1 1) rotate(0) translate(4 268.75)\">\n",
       "<title>MDP</title>\n",
       "<polygon fill=\"white\" stroke=\"none\" points=\"-4,4 -4,-268.75 1045.59,-268.75 1045.59,4 -4,4\"/>\n",
       "<!-- s0 -->\n",
       "<g id=\"node1\" class=\"node\">\n",
       "<title>s0</title>\n",
       "<ellipse fill=\"#85ff75\" stroke=\"#85ff75\" cx=\"40\" cy=\"-117\" rx=\"36\" ry=\"36\"/>\n",
       "<ellipse fill=\"none\" stroke=\"#85ff75\" cx=\"40\" cy=\"-117\" rx=\"40\" ry=\"40\"/>\n",
       "<text text-anchor=\"middle\" x=\"40\" y=\"-107.7\" font-family=\"Arial\" font-size=\"24.00\">s0</text>\n",
       "</g>\n",
       "<!-- s0&#45;a0 -->\n",
       "<g id=\"node2\" class=\"node\">\n",
       "<title>s0&#45;a0</title>\n",
       "<ellipse fill=\"lightpink\" stroke=\"lightpink\" cx=\"201.72\" cy=\"-160\" rx=\"27.22\" ry=\"27.22\"/>\n",
       "<text text-anchor=\"middle\" x=\"201.72\" y=\"-152.62\" font-family=\"Arial\" font-size=\"20.00\">a0</text>\n",
       "</g>\n",
       "<!-- s0&#45;&gt;s0&#45;a0 -->\n",
       "<g id=\"edge1\" class=\"edge\">\n",
       "<title>s0&#45;&gt;s0&#45;a0</title>\n",
       "<path fill=\"none\" stroke=\"red\" stroke-width=\"2\" d=\"M79.53,-124.82C102.13,-129.7 131.13,-136.47 156.5,-144 159.41,-144.86 162.4,-145.81 165.4,-146.8\"/>\n",
       "<polygon fill=\"red\" stroke=\"red\" stroke-width=\"2\" points=\"162.65,-149.55 173.24,-149.52 164.94,-142.94 162.65,-149.55\"/>\n",
       "</g>\n",
       "<!-- s0&#45;a1 -->\n",
       "<g id=\"node4\" class=\"node\">\n",
       "<title>s0&#45;a1</title>\n",
       "<ellipse fill=\"lightpink\" stroke=\"lightpink\" cx=\"201.72\" cy=\"-232\" rx=\"27.22\" ry=\"27.22\"/>\n",
       "<text text-anchor=\"middle\" x=\"201.72\" y=\"-224.62\" font-family=\"Arial\" font-size=\"20.00\">a1</text>\n",
       "</g>\n",
       "<!-- s0&#45;&gt;s0&#45;a1 -->\n",
       "<g id=\"edge4\" class=\"edge\">\n",
       "<title>s0&#45;&gt;s0&#45;a1</title>\n",
       "<path fill=\"none\" stroke=\"red\" stroke-width=\"2\" d=\"M66.26,-147.29C75.6,-157.45 86.69,-168.38 98,-177 118.96,-192.98 145.19,-206.94 165.9,-216.8\"/>\n",
       "<polygon fill=\"red\" stroke=\"red\" stroke-width=\"2\" points=\"162.88,-219.25 173.43,-220.29 165.83,-212.9 162.88,-219.25\"/>\n",
       "</g>\n",
       "<!-- s0&#45;a0&#45;&gt;s0 -->\n",
       "<g id=\"edge2\" class=\"edge\">\n",
       "<title>s0&#45;a0&#45;&gt;s0</title>\n",
       "<path fill=\"none\" stroke=\"blue\" stroke-dasharray=\"5,2\" d=\"M174.61,-156.76C153.62,-153.77 123.54,-148.64 98,-141 94.5,-139.95 90.93,-138.76 87.36,-137.48\"/>\n",
       "<polygon fill=\"blue\" stroke=\"blue\" points=\"88.76,-134.27 78.17,-133.97 86.26,-140.81 88.76,-134.27\"/>\n",
       "<text text-anchor=\"middle\" x=\"127.25\" y=\"-157.55\" font-family=\"Arial\" font-size=\"16.00\">p = &#160;&#160;0.5</text>\n",
       "</g>\n",
       "<!-- s2 -->\n",
       "<g id=\"node3\" class=\"node\">\n",
       "<title>s2</title>\n",
       "<ellipse fill=\"#85ff75\" stroke=\"#85ff75\" cx=\"439.95\" cy=\"-185\" rx=\"36\" ry=\"36\"/>\n",
       "<ellipse fill=\"none\" stroke=\"#85ff75\" cx=\"439.95\" cy=\"-185\" rx=\"40\" ry=\"40\"/>\n",
       "<text text-anchor=\"middle\" x=\"439.95\" y=\"-175.7\" font-family=\"Arial\" font-size=\"24.00\">s2</text>\n",
       "</g>\n",
       "<!-- s0&#45;a0&#45;&gt;s2 -->\n",
       "<g id=\"edge3\" class=\"edge\">\n",
       "<title>s0&#45;a0&#45;&gt;s2</title>\n",
       "<path fill=\"none\" stroke=\"blue\" stroke-dasharray=\"5,2\" d=\"M228.91,-162.77C267.27,-166.83 339.51,-174.48 388.43,-179.65\"/>\n",
       "<polygon fill=\"blue\" stroke=\"blue\" points=\"387.9,-183.12 398.21,-180.69 388.63,-176.16 387.9,-183.12\"/>\n",
       "<text text-anchor=\"middle\" x=\"314.45\" y=\"-182.55\" font-family=\"Arial\" font-size=\"16.00\">p = &#160;&#160;0.5</text>\n",
       "</g>\n",
       "<!-- s2&#45;a0 -->\n",
       "<g id=\"node8\" class=\"node\">\n",
       "<title>s2&#45;a0</title>\n",
       "<ellipse fill=\"lightpink\" stroke=\"lightpink\" cx=\"672.92\" cy=\"-163\" rx=\"27.22\" ry=\"27.22\"/>\n",
       "<text text-anchor=\"middle\" x=\"672.92\" y=\"-155.62\" font-family=\"Arial\" font-size=\"20.00\">a0</text>\n",
       "</g>\n",
       "<!-- s2&#45;&gt;s2&#45;a0 -->\n",
       "<g id=\"edge13\" class=\"edge\">\n",
       "<title>s2&#45;&gt;s2&#45;a0</title>\n",
       "<path fill=\"none\" stroke=\"red\" stroke-width=\"2\" d=\"M480.11,-189.21C518.26,-192.23 577.68,-194.07 627.7,-183 631.12,-182.24 634.61,-181.2 638.04,-179.99\"/>\n",
       "<polygon fill=\"red\" stroke=\"red\" stroke-width=\"2\" points=\"637.92,-183.81 645.87,-176.81 635.29,-177.33 637.92,-183.81\"/>\n",
       "</g>\n",
       "<!-- s2&#45;a1 -->\n",
       "<g id=\"node9\" class=\"node\">\n",
       "<title>s2&#45;a1</title>\n",
       "<ellipse fill=\"lightpink\" stroke=\"lightpink\" cx=\"672.92\" cy=\"-81\" rx=\"27.22\" ry=\"27.22\"/>\n",
       "<text text-anchor=\"middle\" x=\"672.92\" y=\"-73.62\" font-family=\"Arial\" font-size=\"20.00\">a1</text>\n",
       "</g>\n",
       "<!-- s2&#45;&gt;s2&#45;a1 -->\n",
       "<g id=\"edge16\" class=\"edge\">\n",
       "<title>s2&#45;&gt;s2&#45;a1</title>\n",
       "<path fill=\"none\" stroke=\"red\" stroke-width=\"2\" d=\"M473.85,-163.47C481.61,-158.76 489.95,-154 497.95,-150 544.09,-126.9 599.94,-105.91 635.69,-93.3\"/>\n",
       "<polygon fill=\"red\" stroke=\"red\" stroke-width=\"2\" points=\"635.41,-97.1 643.69,-90.5 633.1,-90.49 635.41,-97.1\"/>\n",
       "</g>\n",
       "<!-- s0&#45;a1&#45;&gt;s2 -->\n",
       "<g id=\"edge5\" class=\"edge\">\n",
       "<title>s0&#45;a1&#45;&gt;s2</title>\n",
       "<path fill=\"none\" stroke=\"blue\" stroke-dasharray=\"5,2\" d=\"M229.04,-228.64C264.16,-223.91 328.16,-214.47 381.95,-202 384.72,-201.36 387.56,-200.66 390.41,-199.92\"/>\n",
       "<polygon fill=\"blue\" stroke=\"blue\" points=\"391.23,-203.32 399.95,-197.31 389.38,-196.57 391.23,-203.32\"/>\n",
       "<text text-anchor=\"middle\" x=\"314.45\" y=\"-228.55\" font-family=\"Arial\" font-size=\"16.00\">p = &#160;&#160;1</text>\n",
       "</g>\n",
       "<!-- s1 -->\n",
       "<g id=\"node5\" class=\"node\">\n",
       "<title>s1</title>\n",
       "<ellipse fill=\"#85ff75\" stroke=\"#85ff75\" cx=\"843.64\" cy=\"-117\" rx=\"36\" ry=\"36\"/>\n",
       "<ellipse fill=\"none\" stroke=\"#85ff75\" cx=\"843.64\" cy=\"-117\" rx=\"40\" ry=\"40\"/>\n",
       "<text text-anchor=\"middle\" x=\"843.64\" y=\"-107.7\" font-family=\"Arial\" font-size=\"24.00\">s1</text>\n",
       "</g>\n",
       "<!-- s1&#45;a0 -->\n",
       "<g id=\"node6\" class=\"node\">\n",
       "<title>s1&#45;a0</title>\n",
       "<ellipse fill=\"lightpink\" stroke=\"lightpink\" cx=\"1014.37\" cy=\"-93\" rx=\"27.22\" ry=\"27.22\"/>\n",
       "<text text-anchor=\"middle\" x=\"1014.37\" y=\"-85.62\" font-family=\"Arial\" font-size=\"20.00\">a0</text>\n",
       "</g>\n",
       "<!-- s1&#45;&gt;s1&#45;a0 -->\n",
       "<g id=\"edge6\" class=\"edge\">\n",
       "<title>s1&#45;&gt;s1&#45;a0</title>\n",
       "<path fill=\"none\" stroke=\"red\" stroke-width=\"2\" d=\"M883.77,-113.72C908.37,-111.38 940.73,-107.8 969.14,-103 971.6,-102.58 974.13,-102.12 976.67,-101.62\"/>\n",
       "<polygon fill=\"red\" stroke=\"red\" stroke-width=\"2\" points=\"975.71,-105.4 984.78,-99.92 974.27,-98.55 975.71,-105.4\"/>\n",
       "</g>\n",
       "<!-- s1&#45;a1 -->\n",
       "<g id=\"node7\" class=\"node\">\n",
       "<title>s1&#45;a1</title>\n",
       "<ellipse fill=\"lightpink\" stroke=\"lightpink\" cx=\"1014.37\" cy=\"-175\" rx=\"27.22\" ry=\"27.22\"/>\n",
       "<text text-anchor=\"middle\" x=\"1014.37\" y=\"-167.62\" font-family=\"Arial\" font-size=\"20.00\">a1</text>\n",
       "</g>\n",
       "<!-- s1&#45;&gt;s1&#45;a1 -->\n",
       "<g id=\"edge10\" class=\"edge\">\n",
       "<title>s1&#45;&gt;s1&#45;a1</title>\n",
       "<path fill=\"none\" stroke=\"red\" stroke-width=\"2\" d=\"M882.58,-127.78C907.42,-135.12 940.47,-145.38 969.14,-156 972.33,-157.18 975.62,-158.47 978.91,-159.79\"/>\n",
       "<polygon fill=\"red\" stroke=\"red\" stroke-width=\"2\" points=\"975.85,-162.31 986.42,-162.93 978.54,-155.85 975.85,-162.31\"/>\n",
       "</g>\n",
       "<!-- s1&#45;a0&#45;&gt;s0 -->\n",
       "<g id=\"edge7\" class=\"edge\">\n",
       "<title>s1&#45;a0&#45;&gt;s0</title>\n",
       "<path fill=\"none\" stroke=\"blue\" stroke-dasharray=\"5,2\" d=\"M994.48,-74.18C965.12,-47.01 905.52,0 844.64,0 200.72,0 200.72,0 200.72,0 147.87,0 100.89,-42.21 71.79,-75.92\"/>\n",
       "<polygon fill=\"blue\" stroke=\"blue\" points=\"69.13,-73.64 65.4,-83.56 74.5,-78.14 69.13,-73.64\"/>\n",
       "<text text-anchor=\"middle\" x=\"562.82\" y=\"-3.55\" font-family=\"Arial\" font-size=\"16.00\">p = 0.7 &#160;reward =5</text>\n",
       "</g>\n",
       "<!-- s1&#45;a0&#45;&gt;s2 -->\n",
       "<g id=\"edge9\" class=\"edge\">\n",
       "<title>s1&#45;a0&#45;&gt;s2</title>\n",
       "<path fill=\"none\" stroke=\"blue\" stroke-dasharray=\"5,2\" d=\"M999.12,-115.94C994.95,-123.16 990.59,-131.28 987.14,-139 976.83,-162.1 989.47,-177.94 969.14,-193 908.16,-238.19 703.59,-201 627.7,-202 570.04,-202.76 555.01,-210.33 497.95,-202 495.13,-201.59 492.26,-201.07 489.38,-200.47\"/>\n",
       "<polygon fill=\"blue\" stroke=\"blue\" points=\"490.33,-197.1 479.79,-198.17 488.69,-203.9 490.33,-197.1\"/>\n",
       "<text text-anchor=\"middle\" x=\"751.89\" y=\"-215.55\" font-family=\"Arial\" font-size=\"16.00\">p = &#160;&#160;0.2</text>\n",
       "</g>\n",
       "<!-- s1&#45;a0&#45;&gt;s1 -->\n",
       "<g id=\"edge8\" class=\"edge\">\n",
       "<title>s1&#45;a0&#45;&gt;s1</title>\n",
       "<path fill=\"none\" stroke=\"blue\" stroke-dasharray=\"5,2\" d=\"M988.03,-84.5C965.06,-78.1 930.48,-71.76 901.64,-80.25 896.14,-81.87 890.66,-84.21 885.4,-86.93\"/>\n",
       "<polygon fill=\"blue\" stroke=\"blue\" points=\"883.86,-83.78 876.92,-91.79 887.34,-89.85 883.86,-83.78\"/>\n",
       "<text text-anchor=\"middle\" x=\"935.39\" y=\"-84.55\" font-family=\"Arial\" font-size=\"16.00\">p = &#160;&#160;0.1</text>\n",
       "</g>\n",
       "<!-- s1&#45;a1&#45;&gt;s2 -->\n",
       "<g id=\"edge12\" class=\"edge\">\n",
       "<title>s1&#45;a1&#45;&gt;s2</title>\n",
       "<path fill=\"none\" stroke=\"blue\" stroke-dasharray=\"5,2\" d=\"M1002.35,-199.61C994.99,-212.9 983.93,-228.15 969.14,-236 897.07,-274.27 867.23,-240.67 785.64,-242 657.77,-244.09 616.78,-283.27 497.95,-236 489.88,-232.79 482.21,-227.89 475.27,-222.38\"/>\n",
       "<polygon fill=\"blue\" stroke=\"blue\" points=\"477.89,-220.02 468.04,-216.14 473.32,-225.32 477.89,-220.02\"/>\n",
       "<text text-anchor=\"middle\" x=\"751.89\" y=\"-249.55\" font-family=\"Arial\" font-size=\"16.00\">p = &#160;&#160;0.05</text>\n",
       "</g>\n",
       "<!-- s1&#45;a1&#45;&gt;s1 -->\n",
       "<g id=\"edge11\" class=\"edge\">\n",
       "<title>s1&#45;a1&#45;&gt;s1</title>\n",
       "<path fill=\"none\" stroke=\"blue\" stroke-dasharray=\"5,2\" d=\"M986.86,-172.56C963.71,-169.79 929.56,-164.11 901.64,-153 896.61,-151 891.53,-148.54 886.59,-145.86\"/>\n",
       "<polygon fill=\"blue\" stroke=\"blue\" points=\"888.41,-142.87 878,-140.87 884.89,-148.92 888.41,-142.87\"/>\n",
       "<text text-anchor=\"middle\" x=\"935.39\" y=\"-173.55\" font-family=\"Arial\" font-size=\"16.00\">p = &#160;&#160;0.95</text>\n",
       "</g>\n",
       "<!-- s2&#45;a0&#45;&gt;s0 -->\n",
       "<g id=\"edge14\" class=\"edge\">\n",
       "<title>s2&#45;a0&#45;&gt;s0</title>\n",
       "<path fill=\"none\" stroke=\"blue\" stroke-dasharray=\"5,2\" d=\"M646.87,-154.73C640.66,-152.93 633.98,-151.21 627.7,-150 453.3,-116.43 406.39,-131.55 228.95,-124 182.38,-122.02 129.32,-120.07 91.47,-118.74\"/>\n",
       "<polygon fill=\"blue\" stroke=\"blue\" points=\"91.87,-115.25 81.75,-118.39 91.63,-122.24 91.87,-115.25\"/>\n",
       "<text text-anchor=\"middle\" x=\"314.45\" y=\"-130.55\" font-family=\"Arial\" font-size=\"16.00\">p = &#160;&#160;0.4</text>\n",
       "</g>\n",
       "<!-- s2&#45;a0&#45;&gt;s2 -->\n",
       "<g id=\"edge15\" class=\"edge\">\n",
       "<title>s2&#45;a0&#45;&gt;s2</title>\n",
       "<path fill=\"none\" stroke=\"blue\" stroke-dasharray=\"5,2\" d=\"M645.65,-159.04C611.29,-154.67 549.41,-149.56 497.95,-160.25 494.19,-161.03 490.37,-162.07 486.59,-163.29\"/>\n",
       "<polygon fill=\"blue\" stroke=\"blue\" points=\"485.72,-159.88 477.51,-166.58 488.11,-166.46 485.72,-159.88\"/>\n",
       "<text text-anchor=\"middle\" x=\"562.82\" y=\"-164.55\" font-family=\"Arial\" font-size=\"16.00\">p = &#160;&#160;0.6</text>\n",
       "</g>\n",
       "<!-- s2&#45;a1&#45;&gt;s0 -->\n",
       "<g id=\"edge17\" class=\"edge\">\n",
       "<title>s2&#45;a1&#45;&gt;s0</title>\n",
       "<path fill=\"none\" stroke=\"blue\" stroke-dasharray=\"5,2\" d=\"M650.46,-65.31C643.54,-61.12 635.6,-57.15 627.7,-55 572.05,-39.86 555.6,-53.94 497.95,-55 319.5,-58.29 268.35,-37.78 98,-91 94.31,-92.15 90.54,-93.49 86.79,-94.93\"/>\n",
       "<polygon fill=\"blue\" stroke=\"blue\" points=\"85.66,-91.61 77.74,-98.66 88.32,-98.09 85.66,-91.61\"/>\n",
       "<text text-anchor=\"middle\" x=\"314.45\" y=\"-61.55\" font-family=\"Arial\" font-size=\"16.00\">p = 0.3 &#160;reward =&#45;1</text>\n",
       "</g>\n",
       "<!-- s2&#45;a1&#45;&gt;s2 -->\n",
       "<g id=\"edge19\" class=\"edge\">\n",
       "<title>s2&#45;a1&#45;&gt;s2</title>\n",
       "<path fill=\"none\" stroke=\"blue\" stroke-dasharray=\"5,2\" d=\"M646.72,-72.13C610.82,-61.17 544.18,-47.17 497.95,-75.25 476.26,-88.42 462.45,-112.82 453.87,-135.27\"/>\n",
       "<polygon fill=\"blue\" stroke=\"blue\" points=\"450.59,-134.05 450.56,-144.65 457.19,-136.38 450.59,-134.05\"/>\n",
       "<text text-anchor=\"middle\" x=\"562.82\" y=\"-79.55\" font-family=\"Arial\" font-size=\"16.00\">p = &#160;&#160;0.4</text>\n",
       "</g>\n",
       "<!-- s2&#45;a1&#45;&gt;s1 -->\n",
       "<g id=\"edge18\" class=\"edge\">\n",
       "<title>s2&#45;a1&#45;&gt;s1</title>\n",
       "<path fill=\"none\" stroke=\"blue\" stroke-dasharray=\"5,2\" d=\"M699.91,-86.55C724.69,-91.83 762.65,-99.93 793.2,-106.45\"/>\n",
       "<polygon fill=\"blue\" stroke=\"blue\" points=\"792.09,-109.79 802.6,-108.46 793.55,-102.95 792.09,-109.79\"/>\n",
       "<text text-anchor=\"middle\" x=\"751.89\" y=\"-108.55\" font-family=\"Arial\" font-size=\"16.00\">p = &#160;&#160;0.3</text>\n",
       "</g>\n",
       "</g>\n",
       "</svg>\n"
      ],
      "text/plain": [
       "<graphviz.graphs.Digraph at 0x7fe5d81ff3d0>"
      ]
     },
     "metadata": {},
     "output_type": "display_data"
    }
   ],
   "source": [
    "if has_graphviz:\n",
    "    from mdp import plot_graph, plot_graph_with_state_values, \\\n",
    "        plot_graph_optimal_strategy_and_state_values\n",
    "\n",
    "    display(plot_graph(mdp))"
   ]
  },
  {
   "cell_type": "markdown",
   "metadata": {},
   "source": [
    "# Value Iteration (up to 1 point)\n",
    "\n",
    "Now let's build something to solve this MDP. The simplest algorithm so far is __V__alue __I__teration\n",
    "\n",
    "Here's the pseudo-code for VI:\n",
    "\n",
    "---\n",
    "\n",
    "`1.` Initialize $V^{(0)}(s)=0$, for all $s$\n",
    "\n",
    "`2.` For $i=0, 1, 2, \\dots$\n",
    " \n",
    "`3.` $ \\quad V_{(i+1)}(s) = \\max\\limits_a \\sum\\limits_{s'} P(s' | s,a) \\cdot [ r(s,a,s') + \\gamma V_{i}(s')]$, for all $s$\n",
    "\n",
    "---"
   ]
  },
  {
   "cell_type": "markdown",
   "metadata": {},
   "source": [
    "First, let's write a function to compute the state-action value function $Q^*$, defined as follows\n",
    "\n",
    "$$Q_i(s, a) = \\sum_{s'} P(s' | s,a) \\cdot [ r(s,a,s') + \\gamma V_{i}(s')]$$\n",
    "\n",
    "**Note:**\n",
    "\n",
    "$P(s' | s, a)$ - ```mdp.get_transition_prob(s, a, s')``` \n",
    "\n",
    "$r(s, a, s')$ - ```mdp.get_reward(s, a, s')```"
   ]
  },
  {
   "cell_type": "code",
   "execution_count": 7,
   "metadata": {
    "tags": []
   },
   "outputs": [
    {
     "name": "stdout",
     "output_type": "stream",
     "text": [
      "Overwriting mdp_get_action_value.py\n"
     ]
    }
   ],
   "source": [
    "%%writefile mdp_get_action_value.py\n",
    "def get_action_value(mdp, state_values, state, action, gamma):\n",
    "    \"\"\" Computes Q(s,a) as in formula above \"\"\"\n",
    "    res = 0 \n",
    "    for next_state, next_state_value in state_values.items():\n",
    "        transition_prob = mdp.get_transition_prob(state, action, next_state)\n",
    "        res += transition_prob * (mdp.get_reward(state, action, next_state) + gamma * next_state_value)\n",
    "    return res"
   ]
  },
  {
   "cell_type": "code",
   "execution_count": 8,
   "metadata": {
    "tags": []
   },
   "outputs": [],
   "source": [
    "from mdp_get_action_value import get_action_value"
   ]
  },
  {
   "cell_type": "code",
   "execution_count": 9,
   "metadata": {
    "tags": []
   },
   "outputs": [],
   "source": [
    "test_Vs = {s: i for i, s in enumerate(sorted(mdp.get_all_states()))}\n",
    "assert np.isclose(get_action_value(mdp, test_Vs, 's2', 'a1', 0.9), 0.69)\n",
    "assert np.isclose(get_action_value(mdp, test_Vs, 's1', 'a0', 0.9), 3.95)"
   ]
  },
  {
   "cell_type": "markdown",
   "metadata": {},
   "source": [
    "Using $Q(s,a)$ we can now define the \"next\" V(s) for value iteration.\n",
    " $$V_{(i+1)}(s) = \\max_a \\sum_{s'} P(s' | s,a) \\cdot [ r(s,a,s') + \\gamma V_{i}(s')] = \\max_a Q_i(s,a)$$"
   ]
  },
  {
   "cell_type": "code",
   "execution_count": 10,
   "metadata": {
    "tags": []
   },
   "outputs": [
    {
     "data": {
      "text/plain": [
       "('a0', 'a1')"
      ]
     },
     "execution_count": 10,
     "metadata": {},
     "output_type": "execute_result"
    }
   ],
   "source": [
    "mdp.get_possible_actions('s0')"
   ]
  },
  {
   "cell_type": "code",
   "execution_count": 11,
   "metadata": {
    "tags": []
   },
   "outputs": [],
   "source": [
    "def get_new_state_value(mdp, state_values, state, gamma):\n",
    "    \"\"\" Computes next V(s) as in formula above. Please do not change state_values in process. \"\"\"\n",
    "    if mdp.is_terminal(state):\n",
    "        return 0\n",
    "    results = []\n",
    "    for action in mdp.get_possible_actions(state): \n",
    "        q = get_action_value(mdp, state_values, state, action, gamma)\n",
    "        results.append(q)\n",
    "    return max(results)"
   ]
  },
  {
   "cell_type": "code",
   "execution_count": 12,
   "metadata": {
    "tags": []
   },
   "outputs": [],
   "source": [
    "test_Vs_copy = dict(test_Vs)\n",
    "assert np.isclose(get_new_state_value(mdp, test_Vs, 's0', 0.9), 1.8)\n",
    "assert np.isclose(get_new_state_value(mdp, test_Vs, 's2', 0.9), 1.08)\n",
    "assert test_Vs == test_Vs_copy, \"please do not change state_values in get_new_state_value\""
   ]
  },
  {
   "cell_type": "markdown",
   "metadata": {},
   "source": [
    "Finally, let's combine everything we wrote into a working value iteration algo."
   ]
  },
  {
   "cell_type": "code",
   "execution_count": 13,
   "metadata": {
    "tags": []
   },
   "outputs": [
    {
     "data": {
      "image/svg+xml": [
       "<?xml version=\"1.0\" encoding=\"UTF-8\" standalone=\"no\"?>\n",
       "<!DOCTYPE svg PUBLIC \"-//W3C//DTD SVG 1.1//EN\"\n",
       " \"http://www.w3.org/Graphics/SVG/1.1/DTD/svg11.dtd\">\n",
       "<!-- Generated by graphviz version 9.0.0 (0)\n",
       " -->\n",
       "<!-- Title: MDP Pages: 1 -->\n",
       "<svg width=\"1115pt\" height=\"334pt\"\n",
       " viewBox=\"0.00 0.00 1114.67 333.75\" xmlns=\"http://www.w3.org/2000/svg\" xmlns:xlink=\"http://www.w3.org/1999/xlink\">\n",
       "<g id=\"graph0\" class=\"graph\" transform=\"scale(1 1) rotate(0) translate(4 329.75)\">\n",
       "<title>MDP</title>\n",
       "<polygon fill=\"white\" stroke=\"none\" points=\"-4,4 -4,-329.75 1110.67,-329.75 1110.67,4 -4,4\"/>\n",
       "<!-- s0 -->\n",
       "<g id=\"node1\" class=\"node\">\n",
       "<title>s0</title>\n",
       "<ellipse fill=\"#85ff75\" stroke=\"#85ff75\" cx=\"50.85\" cy=\"-117\" rx=\"46.85\" ry=\"46.85\"/>\n",
       "<ellipse fill=\"none\" stroke=\"#85ff75\" cx=\"50.85\" cy=\"-117\" rx=\"50.85\" ry=\"50.85\"/>\n",
       "<text text-anchor=\"middle\" x=\"50.85\" y=\"-121.2\" font-family=\"Arial\" font-size=\"24.00\">s0</text>\n",
       "<text text-anchor=\"middle\" x=\"50.85\" y=\"-94.2\" font-family=\"Arial\" font-size=\"24.00\">V =0</text>\n",
       "</g>\n",
       "<!-- s0&#45;a0 -->\n",
       "<g id=\"node2\" class=\"node\">\n",
       "<title>s0&#45;a0</title>\n",
       "<ellipse fill=\"lightpink\" stroke=\"lightpink\" cx=\"223.42\" cy=\"-160\" rx=\"27.22\" ry=\"27.22\"/>\n",
       "<text text-anchor=\"middle\" x=\"223.42\" y=\"-152.62\" font-family=\"Arial\" font-size=\"20.00\">a0</text>\n",
       "</g>\n",
       "<!-- s0&#45;&gt;s0&#45;a0 -->\n",
       "<g id=\"edge1\" class=\"edge\">\n",
       "<title>s0&#45;&gt;s0&#45;a0</title>\n",
       "<path fill=\"none\" stroke=\"red\" stroke-width=\"2\" d=\"M101.13,-125.91C124.65,-130.57 153.07,-136.81 178.19,-144 181.11,-144.84 184.11,-145.76 187.11,-146.74\"/>\n",
       "<polygon fill=\"red\" stroke=\"red\" stroke-width=\"2\" points=\"184.36,-149.5 194.96,-149.44 186.64,-142.88 184.36,-149.5\"/>\n",
       "</g>\n",
       "<!-- s0&#45;a1 -->\n",
       "<g id=\"node4\" class=\"node\">\n",
       "<title>s0&#45;a1</title>\n",
       "<ellipse fill=\"lightpink\" stroke=\"lightpink\" cx=\"223.42\" cy=\"-232\" rx=\"27.22\" ry=\"27.22\"/>\n",
       "<text text-anchor=\"middle\" x=\"223.42\" y=\"-224.62\" font-family=\"Arial\" font-size=\"20.00\">a1</text>\n",
       "</g>\n",
       "<!-- s0&#45;&gt;s0&#45;a1 -->\n",
       "<g id=\"edge4\" class=\"edge\">\n",
       "<title>s0&#45;&gt;s0&#45;a1</title>\n",
       "<path fill=\"none\" stroke=\"red\" stroke-width=\"2\" d=\"M88.24,-151.96C98.08,-160.62 108.98,-169.55 119.69,-177 141.33,-192.05 167.55,-206.03 188.08,-216.13\"/>\n",
       "<polygon fill=\"red\" stroke=\"red\" stroke-width=\"2\" points=\"185,-218.52 195.52,-219.72 188.04,-212.22 185,-218.52\"/>\n",
       "</g>\n",
       "<!-- s0&#45;a0&#45;&gt;s0 -->\n",
       "<g id=\"edge2\" class=\"edge\">\n",
       "<title>s0&#45;a0&#45;&gt;s0</title>\n",
       "<path fill=\"none\" stroke=\"blue\" stroke-dasharray=\"5,2\" d=\"M195.98,-156.28C175.09,-153.06 145.27,-147.84 119.69,-141 116.42,-140.12 113.08,-139.16 109.72,-138.15\"/>\n",
       "<polygon fill=\"blue\" stroke=\"blue\" points=\"111.03,-134.89 100.44,-135.2 108.91,-141.56 111.03,-134.89\"/>\n",
       "<text text-anchor=\"middle\" x=\"148.94\" y=\"-157.55\" font-family=\"Arial\" font-size=\"16.00\">p = &#160;&#160;0.5</text>\n",
       "</g>\n",
       "<!-- s2 -->\n",
       "<g id=\"node3\" class=\"node\">\n",
       "<title>s2</title>\n",
       "<ellipse fill=\"#85ff75\" stroke=\"#85ff75\" cx=\"472.48\" cy=\"-190\" rx=\"46.85\" ry=\"46.85\"/>\n",
       "<ellipse fill=\"none\" stroke=\"#85ff75\" cx=\"472.48\" cy=\"-190\" rx=\"50.85\" ry=\"50.85\"/>\n",
       "<text text-anchor=\"middle\" x=\"472.48\" y=\"-194.2\" font-family=\"Arial\" font-size=\"24.00\">s2</text>\n",
       "<text text-anchor=\"middle\" x=\"472.48\" y=\"-167.2\" font-family=\"Arial\" font-size=\"24.00\">V =0</text>\n",
       "</g>\n",
       "<!-- s0&#45;a0&#45;&gt;s2 -->\n",
       "<g id=\"edge3\" class=\"edge\">\n",
       "<title>s0&#45;a0&#45;&gt;s2</title>\n",
       "<path fill=\"none\" stroke=\"blue\" stroke-dasharray=\"5,2\" d=\"M250.86,-163.21C288.7,-167.81 359.39,-176.39 410.57,-182.6\"/>\n",
       "<polygon fill=\"blue\" stroke=\"blue\" points=\"409.98,-186.06 420.33,-183.79 410.82,-179.11 409.98,-186.06\"/>\n",
       "<text text-anchor=\"middle\" x=\"336.14\" y=\"-185.55\" font-family=\"Arial\" font-size=\"16.00\">p = &#160;&#160;0.5</text>\n",
       "</g>\n",
       "<!-- s2&#45;a0 -->\n",
       "<g id=\"node8\" class=\"node\">\n",
       "<title>s2&#45;a0</title>\n",
       "<ellipse fill=\"lightpink\" stroke=\"lightpink\" cx=\"716.3\" cy=\"-163\" rx=\"27.22\" ry=\"27.22\"/>\n",
       "<text text-anchor=\"middle\" x=\"716.3\" y=\"-155.62\" font-family=\"Arial\" font-size=\"20.00\">a0</text>\n",
       "</g>\n",
       "<!-- s2&#45;&gt;s2&#45;a0 -->\n",
       "<g id=\"edge13\" class=\"edge\">\n",
       "<title>s2&#45;&gt;s2&#45;a0</title>\n",
       "<path fill=\"none\" stroke=\"red\" stroke-width=\"2\" d=\"M523.31,-193.52C563.7,-195.11 621.78,-194.55 671.08,-183 674.5,-182.2 677.97,-181.13 681.4,-179.9\"/>\n",
       "<polygon fill=\"red\" stroke=\"red\" stroke-width=\"2\" points=\"681.3,-183.72 689.23,-176.7 678.65,-177.24 681.3,-183.72\"/>\n",
       "</g>\n",
       "<!-- s2&#45;a1 -->\n",
       "<g id=\"node9\" class=\"node\">\n",
       "<title>s2&#45;a1</title>\n",
       "<ellipse fill=\"lightpink\" stroke=\"lightpink\" cx=\"716.3\" cy=\"-77\" rx=\"27.22\" ry=\"27.22\"/>\n",
       "<text text-anchor=\"middle\" x=\"716.3\" y=\"-69.62\" font-family=\"Arial\" font-size=\"20.00\">a1</text>\n",
       "</g>\n",
       "<!-- s2&#45;&gt;s2&#45;a1 -->\n",
       "<g id=\"edge16\" class=\"edge\">\n",
       "<title>s2&#45;&gt;s2&#45;a1</title>\n",
       "<path fill=\"none\" stroke=\"red\" stroke-width=\"2\" d=\"M516.43,-163.5C524.59,-158.81 533.14,-154.11 541.33,-150 566.58,-137.33 636.78,-108.6 679.9,-91.19\"/>\n",
       "<polygon fill=\"red\" stroke=\"red\" stroke-width=\"2\" points=\"679.72,-95.04 687.69,-88.06 677.11,-88.55 679.72,-95.04\"/>\n",
       "</g>\n",
       "<!-- s0&#45;a1&#45;&gt;s2 -->\n",
       "<g id=\"edge5\" class=\"edge\">\n",
       "<title>s0&#45;a1&#45;&gt;s2</title>\n",
       "<path fill=\"none\" stroke=\"blue\" stroke-dasharray=\"5,2\" d=\"M250.55,-227.7C285.46,-221.95 349.23,-211.37 403.64,-202 406.08,-201.58 408.57,-201.15 411.09,-200.71\"/>\n",
       "<polygon fill=\"blue\" stroke=\"blue\" points=\"411.47,-204.2 420.72,-199.03 410.27,-197.3 411.47,-204.2\"/>\n",
       "<text text-anchor=\"middle\" x=\"336.14\" y=\"-227.55\" font-family=\"Arial\" font-size=\"16.00\">p = &#160;&#160;1</text>\n",
       "</g>\n",
       "<!-- s1 -->\n",
       "<g id=\"node5\" class=\"node\">\n",
       "<title>s1</title>\n",
       "<ellipse fill=\"#85ff75\" stroke=\"#85ff75\" cx=\"897.87\" cy=\"-87\" rx=\"46.85\" ry=\"46.85\"/>\n",
       "<ellipse fill=\"none\" stroke=\"#85ff75\" cx=\"897.87\" cy=\"-87\" rx=\"50.85\" ry=\"50.85\"/>\n",
       "<text text-anchor=\"middle\" x=\"897.87\" y=\"-91.2\" font-family=\"Arial\" font-size=\"24.00\">s1</text>\n",
       "<text text-anchor=\"middle\" x=\"897.87\" y=\"-64.2\" font-family=\"Arial\" font-size=\"24.00\">V =0</text>\n",
       "</g>\n",
       "<!-- s1&#45;a0 -->\n",
       "<g id=\"node6\" class=\"node\">\n",
       "<title>s1&#45;a0</title>\n",
       "<ellipse fill=\"lightpink\" stroke=\"lightpink\" cx=\"1079.44\" cy=\"-63\" rx=\"27.22\" ry=\"27.22\"/>\n",
       "<text text-anchor=\"middle\" x=\"1079.44\" y=\"-55.62\" font-family=\"Arial\" font-size=\"20.00\">a0</text>\n",
       "</g>\n",
       "<!-- s1&#45;&gt;s1&#45;a0 -->\n",
       "<g id=\"edge6\" class=\"edge\">\n",
       "<title>s1&#45;&gt;s1&#45;a0</title>\n",
       "<path fill=\"none\" stroke=\"red\" stroke-width=\"2\" d=\"M948.88,-83.26C974.5,-80.98 1006.13,-77.61 1034.22,-73 1036.68,-72.6 1039.21,-72.14 1041.75,-71.65\"/>\n",
       "<polygon fill=\"red\" stroke=\"red\" stroke-width=\"2\" points=\"1040.78,-75.43 1049.86,-69.96 1039.35,-68.57 1040.78,-75.43\"/>\n",
       "</g>\n",
       "<!-- s1&#45;a1 -->\n",
       "<g id=\"node7\" class=\"node\">\n",
       "<title>s1&#45;a1</title>\n",
       "<ellipse fill=\"lightpink\" stroke=\"lightpink\" cx=\"1079.44\" cy=\"-145\" rx=\"27.22\" ry=\"27.22\"/>\n",
       "<text text-anchor=\"middle\" x=\"1079.44\" y=\"-137.62\" font-family=\"Arial\" font-size=\"20.00\">a1</text>\n",
       "</g>\n",
       "<!-- s1&#45;&gt;s1&#45;a1 -->\n",
       "<g id=\"edge10\" class=\"edge\">\n",
       "<title>s1&#45;&gt;s1&#45;a1</title>\n",
       "<path fill=\"none\" stroke=\"red\" stroke-width=\"2\" d=\"M947.57,-99.45C973.54,-106.48 1005.9,-115.88 1034.22,-126 1037.42,-127.14 1040.72,-128.4 1044.01,-129.72\"/>\n",
       "<polygon fill=\"red\" stroke=\"red\" stroke-width=\"2\" points=\"1040.96,-132.24 1051.53,-132.83 1043.64,-125.77 1040.96,-132.24\"/>\n",
       "</g>\n",
       "<!-- s1&#45;a0&#45;&gt;s0 -->\n",
       "<g id=\"edge7\" class=\"edge\">\n",
       "<title>s1&#45;a0&#45;&gt;s0</title>\n",
       "<path fill=\"none\" stroke=\"blue\" stroke-dasharray=\"5,2\" d=\"M1055.53,-49.33C1022.24,-30.8 958.01,0 898.87,0 222.42,0 222.42,0 222.42,0 170.61,0 123.02,-37.16 91.35,-69.6\"/>\n",
       "<polygon fill=\"blue\" stroke=\"blue\" points=\"89.03,-66.95 84.69,-76.62 94.11,-71.77 89.03,-66.95\"/>\n",
       "<text text-anchor=\"middle\" x=\"606.21\" y=\"-3.55\" font-family=\"Arial\" font-size=\"16.00\">p = 0.7 &#160;reward =5</text>\n",
       "</g>\n",
       "<!-- s1&#45;a0&#45;&gt;s2 -->\n",
       "<g id=\"edge9\" class=\"edge\">\n",
       "<title>s1&#45;a0&#45;&gt;s2</title>\n",
       "<path fill=\"none\" stroke=\"blue\" stroke-dasharray=\"5,2\" d=\"M1064.19,-85.94C1060.02,-93.16 1055.67,-101.28 1052.22,-109 1041.91,-132.1 1053.79,-146.97 1034.22,-163 888.78,-282.1 644.2,-237.06 532.42,-207.61\"/>\n",
       "<polygon fill=\"blue\" stroke=\"blue\" points=\"533.41,-204.25 522.85,-205.03 531.59,-211.01 533.41,-204.25\"/>\n",
       "<text text-anchor=\"middle\" x=\"795.28\" y=\"-244.55\" font-family=\"Arial\" font-size=\"16.00\">p = &#160;&#160;0.2</text>\n",
       "</g>\n",
       "<!-- s1&#45;a0&#45;&gt;s1 -->\n",
       "<g id=\"edge8\" class=\"edge\">\n",
       "<title>s1&#45;a0&#45;&gt;s1</title>\n",
       "<path fill=\"none\" stroke=\"blue\" stroke-dasharray=\"5,2\" d=\"M1053.45,-54.48C1047.24,-52.72 1040.55,-51.14 1034.22,-50.25 1004.51,-46.05 995.8,-42.88 966.72,-50.25 961.63,-51.54 956.51,-53.3 951.49,-55.34\"/>\n",
       "<polygon fill=\"blue\" stroke=\"blue\" points=\"950.41,-51.99 942.73,-59.29 953.29,-58.37 950.41,-51.99\"/>\n",
       "<text text-anchor=\"middle\" x=\"1000.47\" y=\"-54.55\" font-family=\"Arial\" font-size=\"16.00\">p = &#160;&#160;0.1</text>\n",
       "</g>\n",
       "<!-- s1&#45;a1&#45;&gt;s2 -->\n",
       "<g id=\"edge12\" class=\"edge\">\n",
       "<title>s1&#45;a1&#45;&gt;s2</title>\n",
       "<path fill=\"none\" stroke=\"blue\" stroke-dasharray=\"5,2\" d=\"M1073.24,-171.96C1067.57,-193.3 1056.2,-221.79 1034.22,-236 850.25,-354.92 749.85,-303.15 541.33,-236 534.75,-233.88 528.23,-230.91 521.97,-227.49\"/>\n",
       "<polygon fill=\"blue\" stroke=\"blue\" points=\"524.09,-224.67 513.7,-222.57 520.51,-230.69 524.09,-224.67\"/>\n",
       "<text text-anchor=\"middle\" x=\"795.28\" y=\"-310.55\" font-family=\"Arial\" font-size=\"16.00\">p = &#160;&#160;0.05</text>\n",
       "</g>\n",
       "<!-- s1&#45;a1&#45;&gt;s1 -->\n",
       "<g id=\"edge11\" class=\"edge\">\n",
       "<title>s1&#45;a1&#45;&gt;s1</title>\n",
       "<path fill=\"none\" stroke=\"blue\" stroke-dasharray=\"5,2\" d=\"M1052.13,-142.03C1029.11,-138.92 995.04,-133.05 966.72,-123 962,-121.32 957.2,-119.36 952.45,-117.24\"/>\n",
       "<polygon fill=\"blue\" stroke=\"blue\" points=\"954.08,-114.14 943.55,-113.02 951.09,-120.47 954.08,-114.14\"/>\n",
       "<text text-anchor=\"middle\" x=\"1000.47\" y=\"-143.55\" font-family=\"Arial\" font-size=\"16.00\">p = &#160;&#160;0.95</text>\n",
       "</g>\n",
       "<!-- s2&#45;a0&#45;&gt;s0 -->\n",
       "<g id=\"edge14\" class=\"edge\">\n",
       "<title>s2&#45;a0&#45;&gt;s0</title>\n",
       "<path fill=\"none\" stroke=\"blue\" stroke-dasharray=\"5,2\" d=\"M690.22,-154.91C684.01,-153.11 677.34,-151.34 671.08,-150 606.27,-136.17 589.38,-135.37 523.33,-130 376.72,-118.09 203.73,-116.49 113.55,-116.6\"/>\n",
       "<polygon fill=\"blue\" stroke=\"blue\" points=\"113.69,-113.1 103.7,-116.62 113.7,-120.1 113.69,-113.1\"/>\n",
       "<text text-anchor=\"middle\" x=\"336.14\" y=\"-126.55\" font-family=\"Arial\" font-size=\"16.00\">p = &#160;&#160;0.4</text>\n",
       "</g>\n",
       "<!-- s2&#45;a0&#45;&gt;s2 -->\n",
       "<g id=\"edge15\" class=\"edge\">\n",
       "<title>s2&#45;a0&#45;&gt;s2</title>\n",
       "<path fill=\"none\" stroke=\"blue\" stroke-dasharray=\"5,2\" d=\"M689.02,-159.02C654.66,-154.61 592.77,-149.47 541.33,-160.25 537.25,-161.11 533.12,-162.22 529.01,-163.52\"/>\n",
       "<polygon fill=\"blue\" stroke=\"blue\" points=\"527.94,-160.18 519.67,-166.81 530.27,-166.78 527.94,-160.18\"/>\n",
       "<text text-anchor=\"middle\" x=\"606.21\" y=\"-164.55\" font-family=\"Arial\" font-size=\"16.00\">p = &#160;&#160;0.6</text>\n",
       "</g>\n",
       "<!-- s2&#45;a1&#45;&gt;s0 -->\n",
       "<g id=\"edge17\" class=\"edge\">\n",
       "<title>s2&#45;a1&#45;&gt;s0</title>\n",
       "<path fill=\"none\" stroke=\"blue\" stroke-dasharray=\"5,2\" d=\"M692.72,-62.62C686.02,-59.09 678.48,-55.81 671.08,-54 615.06,-40.3 598.99,-52.92 541.33,-54 353.25,-57.53 300.9,-40.49 119.69,-91 116.17,-91.98 112.57,-93.08 108.97,-94.24\"/>\n",
       "<polygon fill=\"blue\" stroke=\"blue\" points=\"107.94,-90.89 99.61,-97.44 110.2,-97.52 107.94,-90.89\"/>\n",
       "<text text-anchor=\"middle\" x=\"336.14\" y=\"-63.55\" font-family=\"Arial\" font-size=\"16.00\">p = 0.3 &#160;reward =&#45;1</text>\n",
       "</g>\n",
       "<!-- s2&#45;a1&#45;&gt;s2 -->\n",
       "<g id=\"edge19\" class=\"edge\">\n",
       "<title>s2&#45;a1&#45;&gt;s2</title>\n",
       "<path fill=\"none\" stroke=\"blue\" stroke-dasharray=\"5,2\" d=\"M689.98,-68.78C654.21,-58.79 588.07,-46.35 541.33,-73.25 519.32,-85.92 503.78,-108.77 493.19,-130.93\"/>\n",
       "<polygon fill=\"blue\" stroke=\"blue\" points=\"490.03,-129.42 489.14,-139.97 496.42,-132.28 490.03,-129.42\"/>\n",
       "<text text-anchor=\"middle\" x=\"606.21\" y=\"-77.55\" font-family=\"Arial\" font-size=\"16.00\">p = &#160;&#160;0.4</text>\n",
       "</g>\n",
       "<!-- s2&#45;a1&#45;&gt;s1 -->\n",
       "<g id=\"edge18\" class=\"edge\">\n",
       "<title>s2&#45;a1&#45;&gt;s1</title>\n",
       "<path fill=\"none\" stroke=\"blue\" stroke-dasharray=\"5,2\" d=\"M743.8,-78.48C767.87,-79.82 804.28,-81.84 835.56,-83.59\"/>\n",
       "<polygon fill=\"blue\" stroke=\"blue\" points=\"835.12,-87.07 845.3,-84.13 835.51,-80.08 835.12,-87.07\"/>\n",
       "<text text-anchor=\"middle\" x=\"795.28\" y=\"-87.55\" font-family=\"Arial\" font-size=\"16.00\">p = &#160;&#160;0.3</text>\n",
       "</g>\n",
       "</g>\n",
       "</svg>\n"
      ],
      "text/plain": [
       "<graphviz.graphs.Digraph at 0x7fe5d8018890>"
      ]
     },
     "metadata": {},
     "output_type": "display_data"
    }
   ],
   "source": [
    "# parameters\n",
    "gamma = 0.9            # discount for MDP\n",
    "num_iter = 100         # maximum iterations, excluding initialization\n",
    "# stop VI if new values are this close to old values (or closer)\n",
    "min_difference = 0.001\n",
    "\n",
    "# initialize V(s)\n",
    "state_values = {s: 0 for s in mdp.get_all_states()}\n",
    "\n",
    "if has_graphviz:\n",
    "    display(plot_graph_with_state_values(mdp, state_values))"
   ]
  },
  {
   "cell_type": "code",
   "execution_count": 14,
   "metadata": {
    "tags": []
   },
   "outputs": [
    {
     "name": "stdout",
     "output_type": "stream",
     "text": [
      "iter    0   |   diff: 3.50000   |   V(s0) = 0.000   V(s1) = 0.000   V(s2) = 0.000\n",
      "iter    1   |   diff: 0.64500   |   V(s0) = 0.000   V(s1) = 3.500   V(s2) = 0.000\n",
      "iter    2   |   diff: 0.58050   |   V(s0) = 0.000   V(s1) = 3.815   V(s2) = 0.645\n",
      "iter    3   |   diff: 0.43582   |   V(s0) = 0.581   V(s1) = 3.959   V(s2) = 0.962\n",
      "iter    4   |   diff: 0.30634   |   V(s0) = 0.866   V(s1) = 4.395   V(s2) = 1.272\n",
      "iter    5   |   diff: 0.27571   |   V(s0) = 1.145   V(s1) = 4.670   V(s2) = 1.579\n",
      "iter    6   |   diff: 0.24347   |   V(s0) = 1.421   V(s1) = 4.926   V(s2) = 1.838\n",
      "iter    7   |   diff: 0.21419   |   V(s0) = 1.655   V(s1) = 5.169   V(s2) = 2.075\n",
      "iter    8   |   diff: 0.19277   |   V(s0) = 1.868   V(s1) = 5.381   V(s2) = 2.290\n",
      "iter    9   |   diff: 0.17327   |   V(s0) = 2.061   V(s1) = 5.573   V(s2) = 2.481\n",
      "iter   10   |   diff: 0.15569   |   V(s0) = 2.233   V(s1) = 5.746   V(s2) = 2.654\n",
      "iter   11   |   diff: 0.14012   |   V(s0) = 2.389   V(s1) = 5.902   V(s2) = 2.810\n",
      "iter   12   |   diff: 0.12610   |   V(s0) = 2.529   V(s1) = 6.042   V(s2) = 2.950\n",
      "iter   13   |   diff: 0.11348   |   V(s0) = 2.655   V(s1) = 6.168   V(s2) = 3.076\n",
      "iter   14   |   diff: 0.10213   |   V(s0) = 2.769   V(s1) = 6.282   V(s2) = 3.190\n",
      "iter   15   |   diff: 0.09192   |   V(s0) = 2.871   V(s1) = 6.384   V(s2) = 3.292\n",
      "iter   16   |   diff: 0.08272   |   V(s0) = 2.963   V(s1) = 6.476   V(s2) = 3.384\n",
      "iter   17   |   diff: 0.07445   |   V(s0) = 3.045   V(s1) = 6.558   V(s2) = 3.467\n",
      "iter   18   |   diff: 0.06701   |   V(s0) = 3.120   V(s1) = 6.633   V(s2) = 3.541\n",
      "iter   19   |   diff: 0.06031   |   V(s0) = 3.187   V(s1) = 6.700   V(s2) = 3.608\n",
      "iter   20   |   diff: 0.05428   |   V(s0) = 3.247   V(s1) = 6.760   V(s2) = 3.668\n",
      "iter   21   |   diff: 0.04885   |   V(s0) = 3.301   V(s1) = 6.814   V(s2) = 3.723\n",
      "iter   22   |   diff: 0.04396   |   V(s0) = 3.350   V(s1) = 6.863   V(s2) = 3.771\n",
      "iter   23   |   diff: 0.03957   |   V(s0) = 3.394   V(s1) = 6.907   V(s2) = 3.815\n",
      "iter   24   |   diff: 0.03561   |   V(s0) = 3.434   V(s1) = 6.947   V(s2) = 3.855\n",
      "iter   25   |   diff: 0.03205   |   V(s0) = 3.469   V(s1) = 6.982   V(s2) = 3.891\n",
      "iter   26   |   diff: 0.02884   |   V(s0) = 3.502   V(s1) = 7.014   V(s2) = 3.923\n",
      "iter   27   |   diff: 0.02596   |   V(s0) = 3.530   V(s1) = 7.043   V(s2) = 3.951\n",
      "iter   28   |   diff: 0.02336   |   V(s0) = 3.556   V(s1) = 7.069   V(s2) = 3.977\n",
      "iter   29   |   diff: 0.02103   |   V(s0) = 3.580   V(s1) = 7.093   V(s2) = 4.001\n",
      "iter   30   |   diff: 0.01892   |   V(s0) = 3.601   V(s1) = 7.114   V(s2) = 4.022\n",
      "iter   31   |   diff: 0.01703   |   V(s0) = 3.620   V(s1) = 7.133   V(s2) = 4.041\n",
      "iter   32   |   diff: 0.01533   |   V(s0) = 3.637   V(s1) = 7.150   V(s2) = 4.058\n",
      "iter   33   |   diff: 0.01380   |   V(s0) = 3.652   V(s1) = 7.165   V(s2) = 4.073\n",
      "iter   34   |   diff: 0.01242   |   V(s0) = 3.666   V(s1) = 7.179   V(s2) = 4.087\n",
      "iter   35   |   diff: 0.01117   |   V(s0) = 3.678   V(s1) = 7.191   V(s2) = 4.099\n",
      "iter   36   |   diff: 0.01006   |   V(s0) = 3.689   V(s1) = 7.202   V(s2) = 4.110\n",
      "iter   37   |   diff: 0.00905   |   V(s0) = 3.699   V(s1) = 7.212   V(s2) = 4.121\n",
      "iter   38   |   diff: 0.00815   |   V(s0) = 3.708   V(s1) = 7.221   V(s2) = 4.130\n",
      "iter   39   |   diff: 0.00733   |   V(s0) = 3.717   V(s1) = 7.230   V(s2) = 4.138\n",
      "iter   40   |   diff: 0.00660   |   V(s0) = 3.724   V(s1) = 7.237   V(s2) = 4.145\n",
      "iter   41   |   diff: 0.00594   |   V(s0) = 3.731   V(s1) = 7.244   V(s2) = 4.152\n",
      "iter   42   |   diff: 0.00534   |   V(s0) = 3.736   V(s1) = 7.249   V(s2) = 4.158\n",
      "iter   43   |   diff: 0.00481   |   V(s0) = 3.742   V(s1) = 7.255   V(s2) = 4.163\n",
      "iter   44   |   diff: 0.00433   |   V(s0) = 3.747   V(s1) = 7.260   V(s2) = 4.168\n",
      "iter   45   |   diff: 0.00390   |   V(s0) = 3.751   V(s1) = 7.264   V(s2) = 4.172\n",
      "iter   46   |   diff: 0.00351   |   V(s0) = 3.755   V(s1) = 7.268   V(s2) = 4.176\n",
      "iter   47   |   diff: 0.00316   |   V(s0) = 3.758   V(s1) = 7.271   V(s2) = 4.179\n",
      "iter   48   |   diff: 0.00284   |   V(s0) = 3.762   V(s1) = 7.275   V(s2) = 4.183\n",
      "iter   49   |   diff: 0.00256   |   V(s0) = 3.764   V(s1) = 7.277   V(s2) = 4.185\n",
      "iter   50   |   diff: 0.00230   |   V(s0) = 3.767   V(s1) = 7.280   V(s2) = 4.188\n",
      "iter   51   |   diff: 0.00207   |   V(s0) = 3.769   V(s1) = 7.282   V(s2) = 4.190\n",
      "iter   52   |   diff: 0.00186   |   V(s0) = 3.771   V(s1) = 7.284   V(s2) = 4.192\n",
      "iter   53   |   diff: 0.00168   |   V(s0) = 3.773   V(s1) = 7.286   V(s2) = 4.194\n",
      "iter   54   |   diff: 0.00151   |   V(s0) = 3.775   V(s1) = 7.288   V(s2) = 4.196\n",
      "iter   55   |   diff: 0.00136   |   V(s0) = 3.776   V(s1) = 7.289   V(s2) = 4.197\n",
      "iter   56   |   diff: 0.00122   |   V(s0) = 3.778   V(s1) = 7.291   V(s2) = 4.199\n",
      "iter   57   |   diff: 0.00110   |   V(s0) = 3.779   V(s1) = 7.292   V(s2) = 4.200\n",
      "iter   58   |   diff: 0.00099   |   V(s0) = 3.780   V(s1) = 7.293   V(s2) = 4.201\n",
      "Terminated\n"
     ]
    }
   ],
   "source": [
    "for i in range(num_iter):\n",
    "\n",
    "    # Compute new state values using the functions you defined above.\n",
    "    # It must be a dict {state : float V_new(state)}\n",
    "    new_state_values = {state: get_new_state_value(mdp, state_values, state, gamma) \n",
    "                        for state in state_values}\n",
    "\n",
    "    assert isinstance(new_state_values, dict)\n",
    "\n",
    "    # Compute difference\n",
    "    diff = max(abs(new_state_values[s] - state_values[s])\n",
    "               for s in mdp.get_all_states())\n",
    "    print(\"iter %4i   |   diff: %6.5f   |   \" % (i, diff), end=\"\")\n",
    "    print('   '.join(\"V(%s) = %.3f\" % (s, v) for s, v in state_values.items()))\n",
    "    state_values = new_state_values\n",
    "\n",
    "    if diff < min_difference:\n",
    "        print(\"Terminated\")\n",
    "        break"
   ]
  },
  {
   "cell_type": "code",
   "execution_count": 15,
   "metadata": {
    "tags": []
   },
   "outputs": [
    {
     "data": {
      "image/svg+xml": [
       "<?xml version=\"1.0\" encoding=\"UTF-8\" standalone=\"no\"?>\n",
       "<!DOCTYPE svg PUBLIC \"-//W3C//DTD SVG 1.1//EN\"\n",
       " \"http://www.w3.org/Graphics/SVG/1.1/DTD/svg11.dtd\">\n",
       "<!-- Generated by graphviz version 9.0.0 (0)\n",
       " -->\n",
       "<!-- Title: MDP Pages: 1 -->\n",
       "<svg width=\"1258pt\" height=\"324pt\"\n",
       " viewBox=\"0.00 0.00 1257.86 323.75\" xmlns=\"http://www.w3.org/2000/svg\" xmlns:xlink=\"http://www.w3.org/1999/xlink\">\n",
       "<g id=\"graph0\" class=\"graph\" transform=\"scale(1 1) rotate(0) translate(4 319.75)\">\n",
       "<title>MDP</title>\n",
       "<polygon fill=\"white\" stroke=\"none\" points=\"-4,4 -4,-319.75 1253.86,-319.75 1253.86,4 -4,4\"/>\n",
       "<!-- s0 -->\n",
       "<g id=\"node1\" class=\"node\">\n",
       "<title>s0</title>\n",
       "<ellipse fill=\"#85ff75\" stroke=\"#85ff75\" cx=\"74.71\" cy=\"-111\" rx=\"70.71\" ry=\"70.71\"/>\n",
       "<ellipse fill=\"none\" stroke=\"#85ff75\" cx=\"74.71\" cy=\"-111\" rx=\"74.71\" ry=\"74.71\"/>\n",
       "<text text-anchor=\"middle\" x=\"74.71\" y=\"-115.2\" font-family=\"Arial\" font-size=\"24.00\">s0</text>\n",
       "<text text-anchor=\"middle\" x=\"74.71\" y=\"-88.2\" font-family=\"Arial\" font-size=\"24.00\">V =3.78</text>\n",
       "</g>\n",
       "<!-- s0&#45;a0 -->\n",
       "<g id=\"node2\" class=\"node\">\n",
       "<title>s0&#45;a0</title>\n",
       "<ellipse fill=\"lightpink\" stroke=\"lightpink\" cx=\"271.14\" cy=\"-154\" rx=\"27.22\" ry=\"27.22\"/>\n",
       "<text text-anchor=\"middle\" x=\"271.14\" y=\"-146.62\" font-family=\"Arial\" font-size=\"20.00\">a0</text>\n",
       "</g>\n",
       "<!-- s0&#45;&gt;s0&#45;a0 -->\n",
       "<g id=\"edge1\" class=\"edge\">\n",
       "<title>s0&#45;&gt;s0&#45;a0</title>\n",
       "<path fill=\"none\" stroke=\"red\" stroke-width=\"2\" d=\"M148.84,-121.59C173.52,-125.84 201.1,-131.33 225.92,-138 228.85,-138.79 231.86,-139.68 234.87,-140.64\"/>\n",
       "<polygon fill=\"red\" stroke=\"red\" stroke-width=\"2\" points=\"232.13,-143.4 242.72,-143.31 234.38,-136.78 232.13,-143.4\"/>\n",
       "</g>\n",
       "<!-- s0&#45;a1 -->\n",
       "<g id=\"node4\" class=\"node\">\n",
       "<title>s0&#45;a1</title>\n",
       "<ellipse fill=\"lightpink\" stroke=\"lightpink\" cx=\"271.14\" cy=\"-226\" rx=\"27.22\" ry=\"27.22\"/>\n",
       "<text text-anchor=\"middle\" x=\"271.14\" y=\"-218.62\" font-family=\"Arial\" font-size=\"20.00\">a1</text>\n",
       "</g>\n",
       "<!-- s0&#45;&gt;s0&#45;a1 -->\n",
       "<g id=\"edge4\" class=\"edge\">\n",
       "<title>s0&#45;&gt;s0&#45;a1</title>\n",
       "<path fill=\"none\" stroke=\"red\" stroke-width=\"2\" d=\"M137.49,-151.61C147.42,-157.88 157.65,-164.2 167.42,-170 190.18,-183.5 216.38,-197.77 236.63,-208.52\"/>\n",
       "<polygon fill=\"red\" stroke=\"red\" stroke-width=\"2\" points=\"233.47,-210.81 243.94,-212.38 236.74,-204.62 233.47,-210.81\"/>\n",
       "</g>\n",
       "<!-- s0&#45;a0&#45;&gt;s0 -->\n",
       "<g id=\"edge2\" class=\"edge\">\n",
       "<title>s0&#45;a0&#45;&gt;s0</title>\n",
       "<path fill=\"none\" stroke=\"blue\" stroke-dasharray=\"5,2\" d=\"M243.86,-149.68C223.04,-146.13 193.27,-140.76 167.42,-135 164.44,-134.33 161.4,-133.64 158.34,-132.92\"/>\n",
       "<polygon fill=\"blue\" stroke=\"blue\" points=\"159.19,-129.53 148.65,-130.6 157.56,-136.33 159.19,-129.53\"/>\n",
       "<text text-anchor=\"middle\" x=\"196.67\" y=\"-150.55\" font-family=\"Arial\" font-size=\"16.00\">p = &#160;&#160;0.5</text>\n",
       "</g>\n",
       "<!-- s2 -->\n",
       "<g id=\"node3\" class=\"node\">\n",
       "<title>s2</title>\n",
       "<ellipse fill=\"#85ff75\" stroke=\"#85ff75\" cx=\"544.08\" cy=\"-202\" rx=\"70.71\" ry=\"70.71\"/>\n",
       "<ellipse fill=\"none\" stroke=\"#85ff75\" cx=\"544.08\" cy=\"-202\" rx=\"74.71\" ry=\"74.71\"/>\n",
       "<text text-anchor=\"middle\" x=\"544.08\" y=\"-206.2\" font-family=\"Arial\" font-size=\"24.00\">s2</text>\n",
       "<text text-anchor=\"middle\" x=\"544.08\" y=\"-179.2\" font-family=\"Arial\" font-size=\"24.00\">V =4.20</text>\n",
       "</g>\n",
       "<!-- s0&#45;a0&#45;&gt;s2 -->\n",
       "<g id=\"edge3\" class=\"edge\">\n",
       "<title>s0&#45;a0&#45;&gt;s2</title>\n",
       "<path fill=\"none\" stroke=\"blue\" stroke-dasharray=\"5,2\" d=\"M298.12,-158.6C334.8,-165.1 403.46,-177.26 458.78,-187.06\"/>\n",
       "<polygon fill=\"blue\" stroke=\"blue\" points=\"458.06,-190.49 468.52,-188.79 459.28,-183.6 458.06,-190.49\"/>\n",
       "<text text-anchor=\"middle\" x=\"383.87\" y=\"-189.55\" font-family=\"Arial\" font-size=\"16.00\">p = &#160;&#160;0.5</text>\n",
       "</g>\n",
       "<!-- s2&#45;a0 -->\n",
       "<g id=\"node8\" class=\"node\">\n",
       "<title>s2&#45;a0</title>\n",
       "<ellipse fill=\"lightpink\" stroke=\"lightpink\" cx=\"811.76\" cy=\"-163\" rx=\"27.22\" ry=\"27.22\"/>\n",
       "<text text-anchor=\"middle\" x=\"811.76\" y=\"-155.62\" font-family=\"Arial\" font-size=\"20.00\">a0</text>\n",
       "</g>\n",
       "<!-- s2&#45;&gt;s2&#45;a0 -->\n",
       "<g id=\"edge13\" class=\"edge\">\n",
       "<title>s2&#45;&gt;s2&#45;a0</title>\n",
       "<path fill=\"none\" stroke=\"red\" stroke-width=\"2\" d=\"M619.2,-201.88C662.73,-200.27 718.46,-195.54 766.54,-183 769.94,-182.11 773.4,-180.99 776.81,-179.72\"/>\n",
       "<polygon fill=\"red\" stroke=\"red\" stroke-width=\"2\" points=\"776.74,-183.54 784.64,-176.48 774.06,-177.07 776.74,-183.54\"/>\n",
       "</g>\n",
       "<!-- s2&#45;a1 -->\n",
       "<g id=\"node9\" class=\"node\">\n",
       "<title>s2&#45;a1</title>\n",
       "<ellipse fill=\"lightpink\" stroke=\"lightpink\" cx=\"811.76\" cy=\"-81\" rx=\"27.22\" ry=\"27.22\"/>\n",
       "<text text-anchor=\"middle\" x=\"811.76\" y=\"-73.62\" font-family=\"Arial\" font-size=\"20.00\">a1</text>\n",
       "</g>\n",
       "<!-- s2&#45;&gt;s2&#45;a1 -->\n",
       "<g id=\"edge16\" class=\"edge\">\n",
       "<title>s2&#45;&gt;s2&#45;a1</title>\n",
       "<path fill=\"none\" stroke=\"red\" stroke-width=\"2\" d=\"M608.87,-164.35C618.13,-159.32 627.63,-154.39 636.79,-150 683.33,-127.71 739.08,-106.52 774.7,-93.64\"/>\n",
       "<polygon fill=\"red\" stroke=\"red\" stroke-width=\"2\" points=\"774.44,-97.46 782.67,-90.79 772.08,-90.87 774.44,-97.46\"/>\n",
       "</g>\n",
       "<!-- s0&#45;a1&#45;&gt;s2 -->\n",
       "<g id=\"edge5\" class=\"edge\">\n",
       "<title>s0&#45;a1&#45;&gt;s2</title>\n",
       "<path fill=\"none\" stroke=\"blue\" stroke-dasharray=\"5,2\" d=\"M298.62,-223.66C335.24,-220.41 403.07,-214.4 458,-209.54\"/>\n",
       "<polygon fill=\"blue\" stroke=\"blue\" points=\"457.99,-213.05 467.65,-208.68 457.38,-206.08 457.99,-213.05\"/>\n",
       "<text text-anchor=\"middle\" x=\"383.87\" y=\"-224.55\" font-family=\"Arial\" font-size=\"16.00\">p = &#160;&#160;1</text>\n",
       "</g>\n",
       "<!-- s1 -->\n",
       "<g id=\"node5\" class=\"node\">\n",
       "<title>s1</title>\n",
       "<ellipse fill=\"#85ff75\" stroke=\"#85ff75\" cx=\"1017.2\" cy=\"-111\" rx=\"70.71\" ry=\"70.71\"/>\n",
       "<ellipse fill=\"none\" stroke=\"#85ff75\" cx=\"1017.2\" cy=\"-111\" rx=\"74.71\" ry=\"74.71\"/>\n",
       "<text text-anchor=\"middle\" x=\"1017.2\" y=\"-115.2\" font-family=\"Arial\" font-size=\"24.00\">s1</text>\n",
       "<text text-anchor=\"middle\" x=\"1017.2\" y=\"-88.2\" font-family=\"Arial\" font-size=\"24.00\">V =7.29</text>\n",
       "</g>\n",
       "<!-- s1&#45;a0 -->\n",
       "<g id=\"node6\" class=\"node\">\n",
       "<title>s1&#45;a0</title>\n",
       "<ellipse fill=\"lightpink\" stroke=\"lightpink\" cx=\"1222.63\" cy=\"-87\" rx=\"27.22\" ry=\"27.22\"/>\n",
       "<text text-anchor=\"middle\" x=\"1222.63\" y=\"-79.62\" font-family=\"Arial\" font-size=\"20.00\">a0</text>\n",
       "</g>\n",
       "<!-- s1&#45;&gt;s1&#45;a0 -->\n",
       "<g id=\"edge6\" class=\"edge\">\n",
       "<title>s1&#45;&gt;s1&#45;a0</title>\n",
       "<path fill=\"none\" stroke=\"red\" stroke-width=\"2\" d=\"M1092.17,-106.58C1119.1,-104.42 1149.72,-101.33 1177.41,-97 1179.87,-96.61 1182.4,-96.17 1184.95,-95.69\"/>\n",
       "<polygon fill=\"red\" stroke=\"red\" stroke-width=\"2\" points=\"1183.97,-99.47 1193.06,-94.02 1182.56,-92.61 1183.97,-99.47\"/>\n",
       "</g>\n",
       "<!-- s1&#45;a1 -->\n",
       "<g id=\"node7\" class=\"node\">\n",
       "<title>s1&#45;a1</title>\n",
       "<ellipse fill=\"lightpink\" stroke=\"lightpink\" cx=\"1222.63\" cy=\"-169\" rx=\"27.22\" ry=\"27.22\"/>\n",
       "<text text-anchor=\"middle\" x=\"1222.63\" y=\"-161.62\" font-family=\"Arial\" font-size=\"20.00\">a1</text>\n",
       "</g>\n",
       "<!-- s1&#45;&gt;s1&#45;a1 -->\n",
       "<g id=\"edge10\" class=\"edge\">\n",
       "<title>s1&#45;&gt;s1&#45;a1</title>\n",
       "<path fill=\"none\" stroke=\"red\" stroke-width=\"2\" d=\"M1090.64,-126.08C1118.11,-132.49 1149.48,-140.65 1177.41,-150 1180.53,-151.04 1183.74,-152.22 1186.93,-153.45\"/>\n",
       "<polygon fill=\"red\" stroke=\"red\" stroke-width=\"2\" points=\"1184.2,-156.12 1194.78,-156.67 1186.85,-149.64 1184.2,-156.12\"/>\n",
       "</g>\n",
       "<!-- s1&#45;a0&#45;&gt;s0 -->\n",
       "<g id=\"edge7\" class=\"edge\">\n",
       "<title>s1&#45;a0&#45;&gt;s0</title>\n",
       "<path fill=\"none\" stroke=\"blue\" stroke-dasharray=\"5,2\" d=\"M1200.35,-71.04C1164.66,-45.93 1089.65,0 1018.2,0 270.14,0 270.14,0 270.14,0 221.77,0 174.48,-26.23 138.65,-53.19\"/>\n",
       "<polygon fill=\"blue\" stroke=\"blue\" points=\"136.76,-50.23 130.99,-59.12 141.04,-55.77 136.76,-50.23\"/>\n",
       "<text text-anchor=\"middle\" x=\"701.66\" y=\"-3.55\" font-family=\"Arial\" font-size=\"16.00\">p = 0.7 &#160;reward =5</text>\n",
       "</g>\n",
       "<!-- s1&#45;a0&#45;&gt;s2 -->\n",
       "<g id=\"edge9\" class=\"edge\">\n",
       "<title>s1&#45;a0&#45;&gt;s2</title>\n",
       "<path fill=\"none\" stroke=\"blue\" stroke-dasharray=\"5,2\" d=\"M1207.43,-109.96C1203.27,-117.19 1198.9,-125.3 1195.41,-133 1185.31,-155.27 1196.47,-169.68 1177.41,-185 1095.46,-250.86 782.41,-227.72 629.76,-211.86\"/>\n",
       "<polygon fill=\"blue\" stroke=\"blue\" points=\"630.43,-208.41 620.12,-210.84 629.69,-215.37 630.43,-208.41\"/>\n",
       "<text text-anchor=\"middle\" x=\"890.74\" y=\"-232.55\" font-family=\"Arial\" font-size=\"16.00\">p = &#160;&#160;0.2</text>\n",
       "</g>\n",
       "<!-- s1&#45;a0&#45;&gt;s1 -->\n",
       "<g id=\"edge8\" class=\"edge\">\n",
       "<title>s1&#45;a0&#45;&gt;s1</title>\n",
       "<path fill=\"none\" stroke=\"blue\" stroke-dasharray=\"5,2\" d=\"M1196.64,-78.48C1190.43,-76.72 1183.74,-75.14 1177.41,-74.25 1147.7,-70.05 1139.37,-68.57 1109.91,-74.25 1105.58,-75.09 1101.2,-76.12 1096.81,-77.31\"/>\n",
       "<polygon fill=\"blue\" stroke=\"blue\" points=\"1095.97,-73.91 1087.39,-80.13 1097.98,-80.62 1095.97,-73.91\"/>\n",
       "<text text-anchor=\"middle\" x=\"1143.66\" y=\"-78.55\" font-family=\"Arial\" font-size=\"16.00\">p = &#160;&#160;0.1</text>\n",
       "</g>\n",
       "<!-- s1&#45;a1&#45;&gt;s2 -->\n",
       "<g id=\"edge12\" class=\"edge\">\n",
       "<title>s1&#45;a1&#45;&gt;s2</title>\n",
       "<path fill=\"none\" stroke=\"blue\" stroke-dasharray=\"5,2\" d=\"M1212.05,-194.32C1204.93,-209.29 1193.63,-227.02 1177.41,-236 967.19,-352.36 872.69,-281.65 636.79,-236 632.76,-235.22 628.67,-234.28 624.58,-233.23\"/>\n",
       "<polygon fill=\"blue\" stroke=\"blue\" points=\"625.77,-229.93 615.2,-230.59 623.88,-236.67 625.77,-229.93\"/>\n",
       "<text text-anchor=\"middle\" x=\"890.74\" y=\"-300.55\" font-family=\"Arial\" font-size=\"16.00\">p = &#160;&#160;0.05</text>\n",
       "</g>\n",
       "<!-- s1&#45;a1&#45;&gt;s1 -->\n",
       "<g id=\"edge11\" class=\"edge\">\n",
       "<title>s1&#45;a1&#45;&gt;s1</title>\n",
       "<path fill=\"none\" stroke=\"blue\" stroke-dasharray=\"5,2\" d=\"M1195.58,-165.23C1172.73,-161.6 1138.75,-155.43 1109.91,-147 1105.73,-145.78 1101.48,-144.45 1097.21,-143.04\"/>\n",
       "<polygon fill=\"blue\" stroke=\"blue\" points=\"1098.62,-139.82 1088.02,-139.88 1096.34,-146.44 1098.62,-139.82\"/>\n",
       "<text text-anchor=\"middle\" x=\"1143.66\" y=\"-165.55\" font-family=\"Arial\" font-size=\"16.00\">p = &#160;&#160;0.95</text>\n",
       "</g>\n",
       "<!-- s2&#45;a0&#45;&gt;s0 -->\n",
       "<g id=\"edge14\" class=\"edge\">\n",
       "<title>s2&#45;a0&#45;&gt;s0</title>\n",
       "<path fill=\"none\" stroke=\"blue\" stroke-dasharray=\"5,2\" d=\"M785.33,-155.02C748.88,-144.05 679.5,-124.9 618.79,-118 457.88,-99.73 268.45,-102.82 161.18,-106.84\"/>\n",
       "<polygon fill=\"blue\" stroke=\"blue\" points=\"161.16,-103.34 151.3,-107.22 161.43,-110.33 161.16,-103.34\"/>\n",
       "<text text-anchor=\"middle\" x=\"383.87\" y=\"-109.55\" font-family=\"Arial\" font-size=\"16.00\">p = &#160;&#160;0.4</text>\n",
       "</g>\n",
       "<!-- s2&#45;a0&#45;&gt;s2 -->\n",
       "<g id=\"edge15\" class=\"edge\">\n",
       "<title>s2&#45;a0&#45;&gt;s2</title>\n",
       "<path fill=\"none\" stroke=\"blue\" stroke-dasharray=\"5,2\" d=\"M784.46,-158.9C750.07,-154.38 688.16,-149.11 636.79,-160.25 631.85,-161.32 626.85,-162.68 621.88,-164.26\"/>\n",
       "<polygon fill=\"blue\" stroke=\"blue\" points=\"620.79,-160.93 612.49,-167.51 623.08,-167.55 620.79,-160.93\"/>\n",
       "<text text-anchor=\"middle\" x=\"701.66\" y=\"-164.55\" font-family=\"Arial\" font-size=\"16.00\">p = &#160;&#160;0.6</text>\n",
       "</g>\n",
       "<!-- s2&#45;a1&#45;&gt;s0 -->\n",
       "<g id=\"edge17\" class=\"edge\">\n",
       "<title>s2&#45;a1&#45;&gt;s0</title>\n",
       "<path fill=\"none\" stroke=\"blue\" stroke-dasharray=\"5,2\" d=\"M788.71,-66.25C781.89,-62.48 774.16,-58.93 766.54,-57 710.65,-42.81 694.46,-56.89 636.79,-57 494.38,-57.28 458.19,-45.34 316.37,-58.25 249.39,-64.35 232.95,-69.86 167.42,-85 164.28,-85.72 161.09,-86.49 157.88,-87.28\"/>\n",
       "<polygon fill=\"blue\" stroke=\"blue\" points=\"157.17,-83.85 148.34,-89.71 158.9,-90.63 157.17,-83.85\"/>\n",
       "<text text-anchor=\"middle\" x=\"383.87\" y=\"-62.55\" font-family=\"Arial\" font-size=\"16.00\">p = 0.3 &#160;reward =&#45;1</text>\n",
       "</g>\n",
       "<!-- s2&#45;a1&#45;&gt;s2 -->\n",
       "<g id=\"edge19\" class=\"edge\">\n",
       "<title>s2&#45;a1&#45;&gt;s2</title>\n",
       "<path fill=\"none\" stroke=\"blue\" stroke-dasharray=\"5,2\" d=\"M785.49,-72.91C750.09,-63.12 684.7,-50.78 636.79,-75.25 615.07,-86.34 597.31,-105.24 583.4,-125.11\"/>\n",
       "<polygon fill=\"blue\" stroke=\"blue\" points=\"580.55,-123.08 577.91,-133.34 586.37,-126.96 580.55,-123.08\"/>\n",
       "<text text-anchor=\"middle\" x=\"701.66\" y=\"-79.55\" font-family=\"Arial\" font-size=\"16.00\">p = &#160;&#160;0.4</text>\n",
       "</g>\n",
       "<!-- s2&#45;a1&#45;&gt;s1 -->\n",
       "<g id=\"edge18\" class=\"edge\">\n",
       "<title>s2&#45;a1&#45;&gt;s1</title>\n",
       "<path fill=\"none\" stroke=\"blue\" stroke-dasharray=\"5,2\" d=\"M838.94,-84.86C862.47,-88.33 898.34,-93.62 931.68,-98.54\"/>\n",
       "<polygon fill=\"blue\" stroke=\"blue\" points=\"930.96,-101.97 941.37,-99.97 931.99,-95.04 930.96,-101.97\"/>\n",
       "<text text-anchor=\"middle\" x=\"890.74\" y=\"-100.55\" font-family=\"Arial\" font-size=\"16.00\">p = &#160;&#160;0.3</text>\n",
       "</g>\n",
       "</g>\n",
       "</svg>\n"
      ],
      "text/plain": [
       "<graphviz.graphs.Digraph at 0x7fe5d8018e90>"
      ]
     },
     "metadata": {},
     "output_type": "display_data"
    }
   ],
   "source": [
    "if has_graphviz:\n",
    "    display(plot_graph_with_state_values(mdp, state_values))"
   ]
  },
  {
   "cell_type": "code",
   "execution_count": 16,
   "metadata": {
    "tags": []
   },
   "outputs": [
    {
     "name": "stdout",
     "output_type": "stream",
     "text": [
      "Final state values: {'s0': 3.7810348735476405, 's1': 7.294006423867229, 's2': 4.202140275227048}\n"
     ]
    }
   ],
   "source": [
    "print(\"Final state values:\", state_values)\n",
    "\n",
    "assert abs(state_values['s0'] - 3.781) < 0.01\n",
    "assert abs(state_values['s1'] - 7.294) < 0.01\n",
    "assert abs(state_values['s2'] - 4.202) < 0.01"
   ]
  },
  {
   "cell_type": "markdown",
   "metadata": {},
   "source": [
    "Now let's use those $V^{*}(s)$ to find optimal actions in each state\n",
    "\n",
    " $$\\pi^*(s) = \\underset{a}{\\operatorname{argmax}} \\sum_{s'} P(s' | s,a) \\cdot [ r(s,a,s') + \\gamma V_{i}(s')] = \\underset{a}{\\operatorname{argmax}} Q_i(s,a)$$\n",
    " \n",
    "The only difference vs V(s) is that here we take not max but argmax: find action such with maximum Q(s,a)."
   ]
  },
  {
   "cell_type": "code",
   "execution_count": 17,
   "metadata": {
    "tags": []
   },
   "outputs": [],
   "source": [
    "def get_optimal_action(mdp, state_values, state, gamma=0.9):\n",
    "    \"\"\" Finds optimal action using formula above. \"\"\"\n",
    "    if mdp.is_terminal(state):\n",
    "        return None\n",
    "    results = {}\n",
    "    for action in mdp.get_possible_actions(state): \n",
    "        q = get_action_value(mdp, state_values, state, action, gamma)\n",
    "        results[action] = q\n",
    "    return max(results.items(), key=lambda x: x[1])[0]"
   ]
  },
  {
   "cell_type": "code",
   "execution_count": 18,
   "metadata": {
    "tags": []
   },
   "outputs": [],
   "source": [
    "assert get_optimal_action(mdp, state_values, 's0', gamma) == 'a1'\n",
    "assert get_optimal_action(mdp, state_values, 's1', gamma) == 'a0'\n",
    "assert get_optimal_action(mdp, state_values, 's2', gamma) == 'a1'"
   ]
  },
  {
   "cell_type": "code",
   "execution_count": 19,
   "metadata": {
    "tags": []
   },
   "outputs": [
    {
     "data": {
      "image/svg+xml": [
       "<?xml version=\"1.0\" encoding=\"UTF-8\" standalone=\"no\"?>\n",
       "<!DOCTYPE svg PUBLIC \"-//W3C//DTD SVG 1.1//EN\"\n",
       " \"http://www.w3.org/Graphics/SVG/1.1/DTD/svg11.dtd\">\n",
       "<!-- Generated by graphviz version 9.0.0 (0)\n",
       " -->\n",
       "<!-- Title: MDP Pages: 1 -->\n",
       "<svg width=\"1258pt\" height=\"343pt\"\n",
       " viewBox=\"0.00 0.00 1257.86 342.75\" xmlns=\"http://www.w3.org/2000/svg\" xmlns:xlink=\"http://www.w3.org/1999/xlink\">\n",
       "<g id=\"graph0\" class=\"graph\" transform=\"scale(1 1) rotate(0) translate(4 338.75)\">\n",
       "<title>MDP</title>\n",
       "<polygon fill=\"white\" stroke=\"none\" points=\"-4,4 -4,-338.75 1253.86,-338.75 1253.86,4 -4,4\"/>\n",
       "<!-- s0 -->\n",
       "<g id=\"node1\" class=\"node\">\n",
       "<title>s0</title>\n",
       "<ellipse fill=\"#85ff75\" stroke=\"#85ff75\" cx=\"74.71\" cy=\"-130\" rx=\"70.71\" ry=\"70.71\"/>\n",
       "<ellipse fill=\"none\" stroke=\"#85ff75\" cx=\"74.71\" cy=\"-130\" rx=\"74.71\" ry=\"74.71\"/>\n",
       "<text text-anchor=\"middle\" x=\"74.71\" y=\"-134.2\" font-family=\"Arial\" font-size=\"24.00\">s0</text>\n",
       "<text text-anchor=\"middle\" x=\"74.71\" y=\"-107.2\" font-family=\"Arial\" font-size=\"24.00\">V =3.78</text>\n",
       "</g>\n",
       "<!-- s0&#45;a0 -->\n",
       "<g id=\"node2\" class=\"node\">\n",
       "<title>s0&#45;a0</title>\n",
       "<ellipse fill=\"lightpink\" stroke=\"lightpink\" cx=\"271.14\" cy=\"-160\" rx=\"27.22\" ry=\"27.22\"/>\n",
       "<text text-anchor=\"middle\" x=\"271.14\" y=\"-152.62\" font-family=\"Arial\" font-size=\"20.00\">a0</text>\n",
       "</g>\n",
       "<!-- s0&#45;&gt;s0&#45;a0 -->\n",
       "<g id=\"edge1\" class=\"edge\">\n",
       "<title>s0&#45;&gt;s0&#45;a0</title>\n",
       "<path fill=\"none\" stroke=\"red\" stroke-width=\"2\" d=\"M149.64,-133.14C174.13,-135.17 201.38,-138.51 225.92,-144 228.88,-144.66 231.91,-145.47 234.94,-146.37\"/>\n",
       "<polygon fill=\"red\" stroke=\"red\" stroke-width=\"2\" points=\"232.21,-149.15 242.81,-148.95 234.4,-142.5 232.21,-149.15\"/>\n",
       "</g>\n",
       "<!-- s0&#45;a1 -->\n",
       "<g id=\"node4\" class=\"node\">\n",
       "<title>s0&#45;a1</title>\n",
       "<ellipse fill=\"lightpink\" stroke=\"lightpink\" cx=\"271.14\" cy=\"-232\" rx=\"27.22\" ry=\"27.22\"/>\n",
       "<text text-anchor=\"middle\" x=\"271.14\" y=\"-224.62\" font-family=\"Arial\" font-size=\"20.00\">a1</text>\n",
       "</g>\n",
       "<!-- s0&#45;&gt;s0&#45;a1 -->\n",
       "<g id=\"edge4\" class=\"edge\">\n",
       "<title>s0&#45;&gt;s0&#45;a1</title>\n",
       "<path fill=\"none\" stroke=\"red\" stroke-width=\"2\" d=\"M143.71,-159.2C176.05,-175.53 213.15,-195.44 238.75,-210.41\"/>\n",
       "<polygon fill=\"red\" stroke=\"red\" stroke-width=\"2\" points=\"235.66,-212.64 246.04,-214.74 239.23,-206.62 235.66,-212.64\"/>\n",
       "</g>\n",
       "<!-- s0&#45;&gt;s0&#45;a1 -->\n",
       "<g id=\"edge20\" class=\"edge\">\n",
       "<title>s0&#45;&gt;s0&#45;a1</title>\n",
       "<path fill=\"none\" stroke=\"green\" stroke-width=\"6\" d=\"M138.57,-169.34C168.66,-185.83 203.8,-204 230.19,-216.62\"/>\n",
       "<polygon fill=\"green\" stroke=\"green\" stroke-width=\"6\" points=\"227.86,-221.32 239.14,-220.79 232.29,-211.8 227.86,-221.32\"/>\n",
       "</g>\n",
       "<!-- s0&#45;a0&#45;&gt;s0 -->\n",
       "<g id=\"edge2\" class=\"edge\">\n",
       "<title>s0&#45;a0&#45;&gt;s0</title>\n",
       "<path fill=\"none\" stroke=\"blue\" stroke-dasharray=\"5,2\" d=\"M244.02,-155.97C222.36,-152.63 190.34,-147.69 160.01,-143.01\"/>\n",
       "<polygon fill=\"blue\" stroke=\"blue\" points=\"160.85,-139.6 150.44,-141.53 159.79,-146.51 160.85,-139.6\"/>\n",
       "<text text-anchor=\"middle\" x=\"196.67\" y=\"-156.55\" font-family=\"Arial\" font-size=\"16.00\">p = &#160;&#160;0.5</text>\n",
       "</g>\n",
       "<!-- s2 -->\n",
       "<g id=\"node3\" class=\"node\">\n",
       "<title>s2</title>\n",
       "<ellipse fill=\"#85ff75\" stroke=\"#85ff75\" cx=\"544.08\" cy=\"-208\" rx=\"70.71\" ry=\"70.71\"/>\n",
       "<ellipse fill=\"none\" stroke=\"#85ff75\" cx=\"544.08\" cy=\"-208\" rx=\"74.71\" ry=\"74.71\"/>\n",
       "<text text-anchor=\"middle\" x=\"544.08\" y=\"-212.2\" font-family=\"Arial\" font-size=\"24.00\">s2</text>\n",
       "<text text-anchor=\"middle\" x=\"544.08\" y=\"-185.2\" font-family=\"Arial\" font-size=\"24.00\">V =4.20</text>\n",
       "</g>\n",
       "<!-- s0&#45;a0&#45;&gt;s2 -->\n",
       "<g id=\"edge3\" class=\"edge\">\n",
       "<title>s0&#45;a0&#45;&gt;s2</title>\n",
       "<path fill=\"none\" stroke=\"blue\" stroke-dasharray=\"5,2\" d=\"M298.12,-164.6C334.8,-171.1 403.46,-183.26 458.78,-193.06\"/>\n",
       "<polygon fill=\"blue\" stroke=\"blue\" points=\"458.06,-196.49 468.52,-194.79 459.28,-189.6 458.06,-196.49\"/>\n",
       "<text text-anchor=\"middle\" x=\"383.87\" y=\"-195.55\" font-family=\"Arial\" font-size=\"16.00\">p = &#160;&#160;0.5</text>\n",
       "</g>\n",
       "<!-- s2&#45;a0 -->\n",
       "<g id=\"node8\" class=\"node\">\n",
       "<title>s2&#45;a0</title>\n",
       "<ellipse fill=\"lightpink\" stroke=\"lightpink\" cx=\"811.76\" cy=\"-183\" rx=\"27.22\" ry=\"27.22\"/>\n",
       "<text text-anchor=\"middle\" x=\"811.76\" y=\"-175.62\" font-family=\"Arial\" font-size=\"20.00\">a0</text>\n",
       "</g>\n",
       "<!-- s2&#45;&gt;s2&#45;a0 -->\n",
       "<g id=\"edge13\" class=\"edge\">\n",
       "<title>s2&#45;&gt;s2&#45;a0</title>\n",
       "<path fill=\"none\" stroke=\"red\" stroke-width=\"2\" d=\"M618.92,-212.15C662.36,-212.99 718.09,-211.28 766.54,-201 769.73,-200.32 772.99,-199.43 776.22,-198.4\"/>\n",
       "<polygon fill=\"red\" stroke=\"red\" stroke-width=\"2\" points=\"775.88,-202.25 784.08,-195.54 773.49,-195.67 775.88,-202.25\"/>\n",
       "</g>\n",
       "<!-- s2&#45;a1 -->\n",
       "<g id=\"node9\" class=\"node\">\n",
       "<title>s2&#45;a1</title>\n",
       "<ellipse fill=\"lightpink\" stroke=\"lightpink\" cx=\"811.76\" cy=\"-111\" rx=\"27.22\" ry=\"27.22\"/>\n",
       "<text text-anchor=\"middle\" x=\"811.76\" y=\"-103.62\" font-family=\"Arial\" font-size=\"20.00\">a1</text>\n",
       "</g>\n",
       "<!-- s2&#45;&gt;s2&#45;a1 -->\n",
       "<g id=\"edge16\" class=\"edge\">\n",
       "<title>s2&#45;&gt;s2&#45;a1</title>\n",
       "<path fill=\"none\" stroke=\"red\" stroke-width=\"2\" d=\"M609.5,-171.77C618.63,-168 627.92,-164.34 636.79,-161 683.52,-143.42 738.16,-125.27 773.56,-115.89\"/>\n",
       "<polygon fill=\"red\" stroke=\"red\" stroke-width=\"2\" points=\"772.57,-119.75 781.41,-113.91 770.85,-112.96 772.57,-119.75\"/>\n",
       "</g>\n",
       "<!-- s2&#45;&gt;s2&#45;a1 -->\n",
       "<g id=\"edge22\" class=\"edge\">\n",
       "<title>s2&#45;&gt;s2&#45;a1</title>\n",
       "<path fill=\"none\" stroke=\"green\" stroke-width=\"6\" d=\"M616.24,-186.94C623.16,-184.22 630.1,-181.52 636.79,-179 683.13,-161.57 737.23,-143.58 772.65,-130.12\"/>\n",
       "<polygon fill=\"green\" stroke=\"green\" stroke-width=\"6\" points=\"774.13,-135.18 781.51,-126.63 770.28,-125.41 774.13,-135.18\"/>\n",
       "</g>\n",
       "<!-- s0&#45;a1&#45;&gt;s2 -->\n",
       "<g id=\"edge5\" class=\"edge\">\n",
       "<title>s0&#45;a1&#45;&gt;s2</title>\n",
       "<path fill=\"none\" stroke=\"blue\" stroke-dasharray=\"5,2\" d=\"M298.62,-229.66C335.24,-226.41 403.07,-220.4 458,-215.54\"/>\n",
       "<polygon fill=\"blue\" stroke=\"blue\" points=\"457.99,-219.05 467.65,-214.68 457.38,-212.08 457.99,-219.05\"/>\n",
       "<text text-anchor=\"middle\" x=\"383.87\" y=\"-230.55\" font-family=\"Arial\" font-size=\"16.00\">p = &#160;&#160;1</text>\n",
       "</g>\n",
       "<!-- s1 -->\n",
       "<g id=\"node5\" class=\"node\">\n",
       "<title>s1</title>\n",
       "<ellipse fill=\"#85ff75\" stroke=\"#85ff75\" cx=\"1017.2\" cy=\"-129\" rx=\"70.71\" ry=\"70.71\"/>\n",
       "<ellipse fill=\"none\" stroke=\"#85ff75\" cx=\"1017.2\" cy=\"-129\" rx=\"74.71\" ry=\"74.71\"/>\n",
       "<text text-anchor=\"middle\" x=\"1017.2\" y=\"-133.2\" font-family=\"Arial\" font-size=\"24.00\">s1</text>\n",
       "<text text-anchor=\"middle\" x=\"1017.2\" y=\"-106.2\" font-family=\"Arial\" font-size=\"24.00\">V =7.29</text>\n",
       "</g>\n",
       "<!-- s1&#45;a0 -->\n",
       "<g id=\"node6\" class=\"node\">\n",
       "<title>s1&#45;a0</title>\n",
       "<ellipse fill=\"lightpink\" stroke=\"lightpink\" cx=\"1222.63\" cy=\"-128\" rx=\"27.22\" ry=\"27.22\"/>\n",
       "<text text-anchor=\"middle\" x=\"1222.63\" y=\"-120.62\" font-family=\"Arial\" font-size=\"20.00\">a0</text>\n",
       "</g>\n",
       "<!-- s1&#45;&gt;s1&#45;a0 -->\n",
       "<g id=\"edge6\" class=\"edge\">\n",
       "<title>s1&#45;&gt;s1&#45;a0</title>\n",
       "<path fill=\"none\" stroke=\"red\" stroke-width=\"2\" d=\"M1091.93,-122.12C1123.29,-121.43 1158.49,-121.64 1184.3,-122.82\"/>\n",
       "<polygon fill=\"red\" stroke=\"red\" stroke-width=\"2\" points=\"1182.26,-126.21 1192.43,-123.26 1182.64,-119.22 1182.26,-126.21\"/>\n",
       "</g>\n",
       "<!-- s1&#45;&gt;s1&#45;a0 -->\n",
       "<g id=\"edge21\" class=\"edge\">\n",
       "<title>s1&#45;&gt;s1&#45;a0</title>\n",
       "<path fill=\"none\" stroke=\"green\" stroke-width=\"6\" d=\"M1091.93,-135.16C1121.31,-135.51 1154.07,-135.04 1179.31,-133.81\"/>\n",
       "<polygon fill=\"green\" stroke=\"green\" stroke-width=\"6\" points=\"1179.35,-139.07 1189.01,-133.22 1178.71,-128.58 1179.35,-139.07\"/>\n",
       "</g>\n",
       "<!-- s1&#45;a1 -->\n",
       "<g id=\"node7\" class=\"node\">\n",
       "<title>s1&#45;a1</title>\n",
       "<ellipse fill=\"lightpink\" stroke=\"lightpink\" cx=\"1222.63\" cy=\"-200\" rx=\"27.22\" ry=\"27.22\"/>\n",
       "<text text-anchor=\"middle\" x=\"1222.63\" y=\"-192.62\" font-family=\"Arial\" font-size=\"20.00\">a1</text>\n",
       "</g>\n",
       "<!-- s1&#45;&gt;s1&#45;a1 -->\n",
       "<g id=\"edge10\" class=\"edge\">\n",
       "<title>s1&#45;&gt;s1&#45;a1</title>\n",
       "<path fill=\"none\" stroke=\"red\" stroke-width=\"2\" d=\"M1089.47,-149.07C1117.22,-157.48 1149.09,-167.89 1177.41,-179 1180.81,-180.33 1184.32,-181.81 1187.8,-183.35\"/>\n",
       "<polygon fill=\"red\" stroke=\"red\" stroke-width=\"2\" points=\"1184.73,-185.79 1195.28,-186.79 1187.65,-179.43 1184.73,-185.79\"/>\n",
       "</g>\n",
       "<!-- s1&#45;a0&#45;&gt;s0 -->\n",
       "<g id=\"edge7\" class=\"edge\">\n",
       "<title>s1&#45;a0&#45;&gt;s0</title>\n",
       "<path fill=\"none\" stroke=\"blue\" stroke-dasharray=\"5,2\" d=\"M1204.36,-107.43C1171.91,-71.25 1097.9,0 1018.2,0 270.14,0 270.14,0 270.14,0 217.52,0 168.34,-33.32 132.61,-66.23\"/>\n",
       "<polygon fill=\"blue\" stroke=\"blue\" points=\"130.23,-63.66 125.38,-73.07 135.05,-68.74 130.23,-63.66\"/>\n",
       "<text text-anchor=\"middle\" x=\"701.66\" y=\"-3.55\" font-family=\"Arial\" font-size=\"16.00\">p = 0.7 &#160;reward =5</text>\n",
       "</g>\n",
       "<!-- s1&#45;a0&#45;&gt;s2 -->\n",
       "<g id=\"edge9\" class=\"edge\">\n",
       "<title>s1&#45;a0&#45;&gt;s2</title>\n",
       "<path fill=\"none\" stroke=\"blue\" stroke-dasharray=\"5,2\" d=\"M1204.71,-149.01C1201.35,-153.77 1198.04,-158.92 1195.41,-164 1183.95,-186.08 1197.58,-202.44 1177.41,-217 1092.25,-278.49 781.16,-243.03 629.43,-221.2\"/>\n",
       "<polygon fill=\"blue\" stroke=\"blue\" points=\"630.24,-217.78 619.84,-219.81 629.23,-224.71 630.24,-217.78\"/>\n",
       "<text text-anchor=\"middle\" x=\"890.74\" y=\"-252.55\" font-family=\"Arial\" font-size=\"16.00\">p = &#160;&#160;0.2</text>\n",
       "</g>\n",
       "<!-- s1&#45;a0&#45;&gt;s1 -->\n",
       "<g id=\"edge8\" class=\"edge\">\n",
       "<title>s1&#45;a0&#45;&gt;s1</title>\n",
       "<path fill=\"none\" stroke=\"blue\" stroke-dasharray=\"5,2\" d=\"M1198.97,-114.4C1192.26,-111.06 1184.74,-107.96 1177.41,-106.25 1152.65,-100.49 1125.36,-101.71 1100.47,-105.66\"/>\n",
       "<polygon fill=\"blue\" stroke=\"blue\" points=\"1099.95,-102.2 1090.71,-107.39 1101.17,-109.09 1099.95,-102.2\"/>\n",
       "<text text-anchor=\"middle\" x=\"1143.66\" y=\"-110.55\" font-family=\"Arial\" font-size=\"16.00\">p = &#160;&#160;0.1</text>\n",
       "</g>\n",
       "<!-- s1&#45;a1&#45;&gt;s2 -->\n",
       "<g id=\"edge12\" class=\"edge\">\n",
       "<title>s1&#45;a1&#45;&gt;s2</title>\n",
       "<path fill=\"none\" stroke=\"blue\" stroke-dasharray=\"5,2\" d=\"M1208.7,-223.85C1201.18,-235.15 1190.58,-247.57 1177.41,-254 961.49,-359.41 869.83,-312.53 636.79,-254 631.26,-252.61 625.69,-250.85 620.16,-248.84\"/>\n",
       "<polygon fill=\"blue\" stroke=\"blue\" points=\"621.6,-245.64 611.01,-245.23 619.03,-252.15 621.6,-245.64\"/>\n",
       "<text text-anchor=\"middle\" x=\"890.74\" y=\"-319.55\" font-family=\"Arial\" font-size=\"16.00\">p = &#160;&#160;0.05</text>\n",
       "</g>\n",
       "<!-- s1&#45;a1&#45;&gt;s1 -->\n",
       "<g id=\"edge11\" class=\"edge\">\n",
       "<title>s1&#45;a1&#45;&gt;s1</title>\n",
       "<path fill=\"none\" stroke=\"blue\" stroke-dasharray=\"5,2\" d=\"M1195.33,-196.7C1172.33,-193.32 1138.26,-187.11 1109.91,-177 1104.3,-175 1098.61,-172.71 1092.95,-170.25\"/>\n",
       "<polygon fill=\"blue\" stroke=\"blue\" points=\"1094.75,-167.22 1084.2,-166.27 1091.85,-173.6 1094.75,-167.22\"/>\n",
       "<text text-anchor=\"middle\" x=\"1143.66\" y=\"-197.55\" font-family=\"Arial\" font-size=\"16.00\">p = &#160;&#160;0.95</text>\n",
       "</g>\n",
       "<!-- s2&#45;a0&#45;&gt;s0 -->\n",
       "<g id=\"edge14\" class=\"edge\">\n",
       "<title>s2&#45;a0&#45;&gt;s0</title>\n",
       "<path fill=\"none\" stroke=\"blue\" stroke-dasharray=\"5,2\" d=\"M786.16,-172.83C750.16,-158.56 680.68,-133.3 618.79,-124 458.2,-99.88 267.89,-110.93 160.53,-120.74\"/>\n",
       "<polygon fill=\"blue\" stroke=\"blue\" points=\"160.27,-117.25 150.64,-121.67 160.92,-124.22 160.27,-117.25\"/>\n",
       "<text text-anchor=\"middle\" x=\"383.87\" y=\"-114.55\" font-family=\"Arial\" font-size=\"16.00\">p = &#160;&#160;0.4</text>\n",
       "</g>\n",
       "<!-- s2&#45;a0&#45;&gt;s2 -->\n",
       "<g id=\"edge15\" class=\"edge\">\n",
       "<title>s2&#45;a0&#45;&gt;s2</title>\n",
       "<path fill=\"none\" stroke=\"blue\" stroke-dasharray=\"5,2\" d=\"M784.34,-179.29C750.07,-175.15 688.57,-170.06 636.79,-178.25 633.19,-178.82 629.55,-179.51 625.88,-180.29\"/>\n",
       "<polygon fill=\"blue\" stroke=\"blue\" points=\"625.28,-176.83 616.35,-182.54 626.89,-183.64 625.28,-176.83\"/>\n",
       "<text text-anchor=\"middle\" x=\"701.66\" y=\"-182.55\" font-family=\"Arial\" font-size=\"16.00\">p = &#160;&#160;0.6</text>\n",
       "</g>\n",
       "<!-- s2&#45;a1&#45;&gt;s0 -->\n",
       "<g id=\"edge17\" class=\"edge\">\n",
       "<title>s2&#45;a1&#45;&gt;s0</title>\n",
       "<path fill=\"none\" stroke=\"blue\" stroke-dasharray=\"5,2\" d=\"M788.61,-96.6C781.79,-92.83 774.09,-89.21 766.54,-87 574.27,-30.74 515.91,-46.47 316.37,-64.25 249.38,-70.22 231.87,-71.77 167.42,-91 162.94,-92.34 158.39,-93.82 153.83,-95.42\"/>\n",
       "<polygon fill=\"blue\" stroke=\"blue\" points=\"152.81,-92.06 144.62,-98.78 155.21,-98.64 152.81,-92.06\"/>\n",
       "<text text-anchor=\"middle\" x=\"383.87\" y=\"-68.55\" font-family=\"Arial\" font-size=\"16.00\">p = 0.3 &#160;reward =&#45;1</text>\n",
       "</g>\n",
       "<!-- s2&#45;a1&#45;&gt;s2 -->\n",
       "<g id=\"edge19\" class=\"edge\">\n",
       "<title>s2&#45;a1&#45;&gt;s2</title>\n",
       "<path fill=\"none\" stroke=\"blue\" stroke-dasharray=\"5,2\" d=\"M785.51,-103.01C750.4,-93.38 685.66,-81.08 636.79,-103.25 620.11,-110.82 605.27,-123.08 592.64,-136.6\"/>\n",
       "<polygon fill=\"blue\" stroke=\"blue\" points=\"590.08,-134.21 586.07,-144.01 595.32,-138.85 590.08,-134.21\"/>\n",
       "<text text-anchor=\"middle\" x=\"701.66\" y=\"-107.55\" font-family=\"Arial\" font-size=\"16.00\">p = &#160;&#160;0.4</text>\n",
       "</g>\n",
       "<!-- s2&#45;a1&#45;&gt;s1 -->\n",
       "<g id=\"edge18\" class=\"edge\">\n",
       "<title>s2&#45;a1&#45;&gt;s1</title>\n",
       "<path fill=\"none\" stroke=\"blue\" stroke-dasharray=\"5,2\" d=\"M839.36,-113.35C862.78,-115.43 898.19,-118.56 931.2,-121.48\"/>\n",
       "<polygon fill=\"blue\" stroke=\"blue\" points=\"930.5,-124.93 940.77,-122.33 931.12,-117.96 930.5,-124.93\"/>\n",
       "<text text-anchor=\"middle\" x=\"890.74\" y=\"-124.55\" font-family=\"Arial\" font-size=\"16.00\">p = &#160;&#160;0.3</text>\n",
       "</g>\n",
       "</g>\n",
       "</svg>\n"
      ],
      "text/plain": [
       "<graphviz.graphs.Digraph at 0x7fe5d8edea90>"
      ]
     },
     "metadata": {},
     "output_type": "display_data"
    }
   ],
   "source": [
    "if has_graphviz:\n",
    "    try:\n",
    "        display(plot_graph_optimal_strategy_and_state_values(mdp, state_values))\n",
    "    except ImportError:\n",
    "        raise ImportError(\"Run the cell that starts with \\\"%%writefile mdp_get_action_value.py\\\"\")"
   ]
  },
  {
   "cell_type": "code",
   "execution_count": 20,
   "metadata": {
    "tags": []
   },
   "outputs": [
    {
     "name": "stdout",
     "output_type": "stream",
     "text": [
      "average reward:  0.4896\n"
     ]
    }
   ],
   "source": [
    "# Measure agent's average reward\n",
    "\n",
    "s = mdp.reset()\n",
    "rewards = []\n",
    "for _ in range(10000):\n",
    "    s, r, done, _ = mdp.step(get_optimal_action(mdp, state_values, s, gamma))\n",
    "    rewards.append(r)\n",
    "\n",
    "print(\"average reward: \", np.mean(rewards))\n",
    "\n",
    "assert(0.40 < np.mean(rewards) < 0.55)"
   ]
  },
  {
   "cell_type": "markdown",
   "metadata": {},
   "source": [
    "### Frozen lake"
   ]
  },
  {
   "cell_type": "code",
   "execution_count": 21,
   "metadata": {
    "tags": []
   },
   "outputs": [
    {
     "name": "stdout",
     "output_type": "stream",
     "text": [
      "*FFF\n",
      "FHFH\n",
      "FFFH\n",
      "HFFG\n",
      "\n"
     ]
    }
   ],
   "source": [
    "mdp = FrozenLakeEnv(slip_chance=0)\n",
    "\n",
    "mdp.render()"
   ]
  },
  {
   "cell_type": "code",
   "execution_count": 22,
   "metadata": {
    "tags": []
   },
   "outputs": [],
   "source": [
    "def value_iteration(mdp, state_values=None, gamma=0.9, num_iter=1000, min_difference=1e-5, silent=False):\n",
    "    \"\"\" performs num_iter value iteration steps starting from state_values. Same as before but in a function \"\"\"\n",
    "    state_values = state_values or {s: 0 for s in mdp.get_all_states()}\n",
    "    for i in range(num_iter):\n",
    "\n",
    "        # Compute new state values using the functions you defined above. It must be a dict {state : new_V(state)}\n",
    "        new_state_values = {state: get_new_state_value(mdp, state_values, state, gamma) \n",
    "                            for state in state_values}\n",
    "\n",
    "        assert isinstance(new_state_values, dict)\n",
    "\n",
    "        # Compute difference\n",
    "        diff = max(abs(new_state_values[s] - state_values[s])\n",
    "                   for s in mdp.get_all_states())\n",
    "        if not silent:\n",
    "            print(\"iter %4i   |   diff: %6.5f   |   V(start): %.3f \" %\n",
    "                  (i, diff, new_state_values[mdp._initial_state]))\n",
    "\n",
    "        state_values = new_state_values\n",
    "        if diff < min_difference:\n",
    "            break\n",
    "\n",
    "    return state_values"
   ]
  },
  {
   "cell_type": "code",
   "execution_count": 23,
   "metadata": {
    "tags": []
   },
   "outputs": [
    {
     "name": "stdout",
     "output_type": "stream",
     "text": [
      "iter    0   |   diff: 1.00000   |   V(start): 0.000 \n",
      "iter    1   |   diff: 0.90000   |   V(start): 0.000 \n",
      "iter    2   |   diff: 0.81000   |   V(start): 0.000 \n",
      "iter    3   |   diff: 0.72900   |   V(start): 0.000 \n",
      "iter    4   |   diff: 0.65610   |   V(start): 0.000 \n",
      "iter    5   |   diff: 0.59049   |   V(start): 0.590 \n",
      "iter    6   |   diff: 0.00000   |   V(start): 0.590 \n"
     ]
    }
   ],
   "source": [
    "state_values = value_iteration(mdp)"
   ]
  },
  {
   "cell_type": "code",
   "execution_count": 24,
   "metadata": {
    "tags": []
   },
   "outputs": [
    {
     "name": "stdout",
     "output_type": "stream",
     "text": [
      "*FFF\n",
      "FHFH\n",
      "FFFH\n",
      "HFFG\n",
      "\n",
      "down\n",
      "\n",
      "SFFF\n",
      "*HFH\n",
      "FFFH\n",
      "HFFG\n",
      "\n",
      "down\n",
      "\n",
      "SFFF\n",
      "FHFH\n",
      "*FFH\n",
      "HFFG\n",
      "\n",
      "right\n",
      "\n",
      "SFFF\n",
      "FHFH\n",
      "F*FH\n",
      "HFFG\n",
      "\n",
      "down\n",
      "\n",
      "SFFF\n",
      "FHFH\n",
      "FFFH\n",
      "H*FG\n",
      "\n",
      "right\n",
      "\n",
      "SFFF\n",
      "FHFH\n",
      "FFFH\n",
      "HF*G\n",
      "\n",
      "right\n",
      "\n",
      "SFFF\n",
      "FHFH\n",
      "FFFH\n",
      "HFF*\n",
      "\n"
     ]
    }
   ],
   "source": [
    "s = mdp.reset()\n",
    "mdp.render()\n",
    "for t in range(100):\n",
    "    a = get_optimal_action(mdp, state_values, s, gamma)\n",
    "    print(a, end='\\n\\n')\n",
    "    s, r, done, _ = mdp.step(a)\n",
    "    mdp.render()\n",
    "    if done:\n",
    "        break"
   ]
  },
  {
   "cell_type": "markdown",
   "metadata": {},
   "source": [
    "### Let's visualize!\n",
    "\n",
    "It's usually interesting to see what your algorithm actually learned under the hood. To do so, we'll plot state value functions and optimal actions at each VI step."
   ]
  },
  {
   "cell_type": "code",
   "execution_count": 25,
   "metadata": {
    "tags": []
   },
   "outputs": [],
   "source": [
    "\n",
    "\n",
    "def draw_policy(mdp, state_values):\n",
    "    plt.figure(figsize=(3, 3))\n",
    "    h, w = mdp.desc.shape\n",
    "    states = sorted(mdp.get_all_states())\n",
    "    V = np.array([state_values[s] for s in states])\n",
    "    Pi = {s: get_optimal_action(mdp, state_values, s, gamma) for s in states}\n",
    "    plt.imshow(V.reshape(w, h), cmap='gray', interpolation='none', clim=(0, 1))\n",
    "    ax = plt.gca()\n",
    "    ax.set_xticks(np.arange(h)-.5)\n",
    "    ax.set_yticks(np.arange(w)-.5)\n",
    "    ax.set_xticklabels([])\n",
    "    ax.set_yticklabels([])\n",
    "    Y, X = np.mgrid[0:4, 0:4]\n",
    "    a2uv = {'left': (-1, 0), 'down': (0, -1), 'right': (1, 0), 'up': (-1, 0)}\n",
    "    for y in range(h):\n",
    "        for x in range(w):\n",
    "            plt.text(x, y, str(mdp.desc[y, x].item()),\n",
    "                     color='g', size=12,  verticalalignment='center',\n",
    "                     horizontalalignment='center', fontweight='bold')\n",
    "            a = Pi[y, x]\n",
    "            if a is None:\n",
    "                continue\n",
    "            u, v = a2uv[a]\n",
    "            plt.arrow(x, y, u*.3, -v*.3, color='m',\n",
    "                      head_width=0.1, head_length=0.1)\n",
    "    plt.grid(color='b', lw=2, ls='-')\n",
    "    plt.show()"
   ]
  },
  {
   "cell_type": "code",
   "execution_count": 26,
   "metadata": {
    "tags": []
   },
   "outputs": [
    {
     "name": "stdout",
     "output_type": "stream",
     "text": [
      "after iteration 0\n",
      "iter    0   |   diff: 1.00000   |   V(start): 0.000 \n"
     ]
    },
    {
     "data": {
      "image/png": "[encoded data removed]",
      "text/plain": [
       "<Figure size 300x300 with 1 Axes>"
      ]
     },
     "metadata": {},
     "output_type": "display_data"
    },
    {
     "name": "stdout",
     "output_type": "stream",
     "text": [
      "after iteration 1\n",
      "iter    0   |   diff: 0.90000   |   V(start): 0.000 \n"
     ]
    },
    {
     "data": {
      "image/png": "[encoded data removed]",
      "text/plain": [
       "<Figure size 300x300 with 1 Axes>"
      ]
     },
     "metadata": {},
     "output_type": "display_data"
    },
    {
     "name": "stdout",
     "output_type": "stream",
     "text": [
      "after iteration 2\n",
      "iter    0   |   diff: 0.81000   |   V(start): 0.000 \n"
     ]
    },
    {
     "data": {
      "image/png": "[encoded data removed]",
      "text/plain": [
       "<Figure size 300x300 with 1 Axes>"
      ]
     },
     "metadata": {},
     "output_type": "display_data"
    },
    {
     "name": "stdout",
     "output_type": "stream",
     "text": [
      "after iteration 3\n",
      "iter    0   |   diff: 0.72900   |   V(start): 0.000 \n"
     ]
    },
    {
     "data": {
      "image/png": "[encoded data removed]",
      "text/plain": [
       "<Figure size 300x300 with 1 Axes>"
      ]
     },
     "metadata": {},
     "output_type": "display_data"
    },
    {
     "name": "stdout",
     "output_type": "stream",
     "text": [
      "after iteration 4\n",
      "iter    0   |   diff: 0.65610   |   V(start): 0.000 \n"
     ]
    },
    {
     "data": {
      "image/png": "[encoded data removed]",
      "text/plain": [
       "<Figure size 300x300 with 1 Axes>"
      ]
     },
     "metadata": {},
     "output_type": "display_data"
    },
    {
     "name": "stdout",
     "output_type": "stream",
     "text": [
      "after iteration 5\n",
      "iter    0   |   diff: 0.59049   |   V(start): 0.590 \n"
     ]
    },
    {
     "data": {
      "image/png": "[encoded data removed]",
      "text/plain": [
       "<Figure size 300x300 with 1 Axes>"
      ]
     },
     "metadata": {},
     "output_type": "display_data"
    },
    {
     "name": "stdout",
     "output_type": "stream",
     "text": [
      "after iteration 6\n",
      "iter    0   |   diff: 0.00000   |   V(start): 0.590 \n"
     ]
    },
    {
     "data": {
      "image/png": "[encoded data removed]",
      "text/plain": [
       "<Figure size 300x300 with 1 Axes>"
      ]
     },
     "metadata": {},
     "output_type": "display_data"
    },
    {
     "name": "stdout",
     "output_type": "stream",
     "text": [
      "after iteration 7\n",
      "iter    0   |   diff: 0.00000   |   V(start): 0.590 \n"
     ]
    },
    {
     "data": {
      "image/png": "[encoded data removed]",
      "text/plain": [
       "<Figure size 300x300 with 1 Axes>"
      ]
     },
     "metadata": {},
     "output_type": "display_data"
    },
    {
     "name": "stdout",
     "output_type": "stream",
     "text": [
      "after iteration 8\n",
      "iter    0   |   diff: 0.00000   |   V(start): 0.590 \n"
     ]
    },
    {
     "data": {
      "image/png": "[encoded data removed]",
      "text/plain": [
       "<Figure size 300x300 with 1 Axes>"
      ]
     },
     "metadata": {},
     "output_type": "display_data"
    },
    {
     "name": "stdout",
     "output_type": "stream",
     "text": [
      "after iteration 9\n",
      "iter    0   |   diff: 0.00000   |   V(start): 0.590 \n"
     ]
    },
    {
     "data": {
      "image/png": "[encoded data removed]",
      "text/plain": [
       "<Figure size 300x300 with 1 Axes>"
      ]
     },
     "metadata": {},
     "output_type": "display_data"
    }
   ],
   "source": [
    "state_values = {s: 0 for s in mdp.get_all_states()}\n",
    "\n",
    "for i in range(10):\n",
    "    print(\"after iteration %i\" % i)\n",
    "    state_values = value_iteration(mdp, state_values, num_iter=1)\n",
    "    draw_policy(mdp, state_values)\n",
    "# please ignore iter 0 at each step"
   ]
  },
  {
   "cell_type": "code",
   "execution_count": 27,
   "metadata": {
    "tags": []
   },
   "outputs": [
    {
     "name": "stdout",
     "output_type": "stream",
     "text": [
      "after iteration 29\n",
      "iter    0   |   diff: 0.00000   |   V(start): 0.198 \n"
     ]
    },
    {
     "data": {
      "image/png": "[encoded data removed]",
      "text/plain": [
       "<Figure size 300x300 with 1 Axes>"
      ]
     },
     "metadata": {},
     "output_type": "display_data"
    }
   ],
   "source": [
    "mdp = FrozenLakeEnv(map_name='8x8', slip_chance=0.1)\n",
    "state_values = {s: 0 for s in mdp.get_all_states()}\n",
    "\n",
    "for i in range(30):\n",
    "    clear_output(True)\n",
    "    print(\"after iteration %i\" % i)\n",
    "    state_values = value_iteration(mdp, state_values, num_iter=1)\n",
    "    draw_policy(mdp, state_values)\n",
    "    sleep(0.5)\n",
    "# please ignore iter 0 at each step"
   ]
  },
  {
   "cell_type": "markdown",
   "metadata": {},
   "source": [
    "Massive tests"
   ]
  },
  {
   "cell_type": "code",
   "execution_count": 28,
   "metadata": {
    "tags": []
   },
   "outputs": [
    {
     "name": "stdout",
     "output_type": "stream",
     "text": [
      "iter    0   |   diff: 1.00000   |   V(start): 0.000 \n",
      "iter    1   |   diff: 0.90000   |   V(start): 0.000 \n",
      "iter    2   |   diff: 0.81000   |   V(start): 0.000 \n",
      "iter    3   |   diff: 0.72900   |   V(start): 0.000 \n",
      "iter    4   |   diff: 0.65610   |   V(start): 0.000 \n",
      "iter    5   |   diff: 0.59049   |   V(start): 0.590 \n",
      "iter    6   |   diff: 0.00000   |   V(start): 0.590 \n",
      "average reward:  1.0\n",
      "Well done!\n"
     ]
    }
   ],
   "source": [
    "mdp = FrozenLakeEnv(slip_chance=0)\n",
    "state_values = value_iteration(mdp)\n",
    "\n",
    "total_rewards = []\n",
    "for game_i in range(1000):\n",
    "    s = mdp.reset()\n",
    "    rewards = []\n",
    "    for t in range(100):\n",
    "        s, r, done, _ = mdp.step(\n",
    "            get_optimal_action(mdp, state_values, s, gamma))\n",
    "        rewards.append(r)\n",
    "        if done:\n",
    "            break\n",
    "    total_rewards.append(np.sum(rewards))\n",
    "\n",
    "print(\"average reward: \", np.mean(total_rewards))\n",
    "assert(1.0 <= np.mean(total_rewards) <= 1.0)\n",
    "print(\"Well done!\")"
   ]
  },
  {
   "cell_type": "code",
   "execution_count": 29,
   "metadata": {
    "tags": []
   },
   "outputs": [
    {
     "name": "stdout",
     "output_type": "stream",
     "text": [
      "iter    0   |   diff: 0.90000   |   V(start): 0.000 \n",
      "iter    1   |   diff: 0.72900   |   V(start): 0.000 \n",
      "iter    2   |   diff: 0.62330   |   V(start): 0.000 \n",
      "iter    3   |   diff: 0.50487   |   V(start): 0.000 \n",
      "iter    4   |   diff: 0.40894   |   V(start): 0.000 \n",
      "iter    5   |   diff: 0.34868   |   V(start): 0.349 \n",
      "iter    6   |   diff: 0.06529   |   V(start): 0.410 \n",
      "iter    7   |   diff: 0.05832   |   V(start): 0.468 \n",
      "iter    8   |   diff: 0.01139   |   V(start): 0.480 \n",
      "iter    9   |   diff: 0.00764   |   V(start): 0.487 \n",
      "iter   10   |   diff: 0.00164   |   V(start): 0.489 \n",
      "iter   11   |   diff: 0.00094   |   V(start): 0.490 \n",
      "iter   12   |   diff: 0.00022   |   V(start): 0.490 \n",
      "iter   13   |   diff: 0.00011   |   V(start): 0.490 \n",
      "iter   14   |   diff: 0.00003   |   V(start): 0.490 \n",
      "iter   15   |   diff: 0.00001   |   V(start): 0.490 \n",
      "iter   16   |   diff: 0.00000   |   V(start): 0.490 \n",
      "average reward:  0.873\n",
      "Well done!\n"
     ]
    }
   ],
   "source": [
    "# Measure agent's average reward\n",
    "mdp = FrozenLakeEnv(slip_chance=0.1)\n",
    "state_values = value_iteration(mdp)\n",
    "\n",
    "total_rewards = []\n",
    "for game_i in range(1000):\n",
    "    s = mdp.reset()\n",
    "    rewards = []\n",
    "    for t in range(100):\n",
    "        s, r, done, _ = mdp.step(\n",
    "            get_optimal_action(mdp, state_values, s, gamma))\n",
    "        rewards.append(r)\n",
    "        if done:\n",
    "            break\n",
    "    total_rewards.append(np.sum(rewards))\n",
    "\n",
    "print(\"average reward: \", np.mean(total_rewards))\n",
    "assert(0.8 <= np.mean(total_rewards) <= 0.95)\n",
    "print(\"Well done!\")"
   ]
  },
  {
   "cell_type": "code",
   "execution_count": 30,
   "metadata": {
    "tags": []
   },
   "outputs": [
    {
     "name": "stdout",
     "output_type": "stream",
     "text": [
      "iter    0   |   diff: 0.75000   |   V(start): 0.000 \n",
      "iter    1   |   diff: 0.50625   |   V(start): 0.000 \n",
      "iter    2   |   diff: 0.39867   |   V(start): 0.000 \n",
      "iter    3   |   diff: 0.26910   |   V(start): 0.000 \n",
      "iter    4   |   diff: 0.18164   |   V(start): 0.000 \n",
      "iter    5   |   diff: 0.14013   |   V(start): 0.140 \n",
      "iter    6   |   diff: 0.07028   |   V(start): 0.199 \n",
      "iter    7   |   diff: 0.06030   |   V(start): 0.260 \n",
      "iter    8   |   diff: 0.02594   |   V(start): 0.285 \n",
      "iter    9   |   diff: 0.01918   |   V(start): 0.305 \n",
      "iter   10   |   diff: 0.00858   |   V(start): 0.313 \n",
      "iter   11   |   diff: 0.00560   |   V(start): 0.319 \n",
      "iter   12   |   diff: 0.00260   |   V(start): 0.321 \n",
      "iter   13   |   diff: 0.00159   |   V(start): 0.323 \n",
      "iter   14   |   diff: 0.00076   |   V(start): 0.324 \n",
      "iter   15   |   diff: 0.00045   |   V(start): 0.324 \n",
      "iter   16   |   diff: 0.00022   |   V(start): 0.324 \n",
      "iter   17   |   diff: 0.00012   |   V(start): 0.325 \n",
      "iter   18   |   diff: 0.00006   |   V(start): 0.325 \n",
      "iter   19   |   diff: 0.00003   |   V(start): 0.325 \n",
      "iter   20   |   diff: 0.00002   |   V(start): 0.325 \n",
      "iter   21   |   diff: 0.00001   |   V(start): 0.325 \n",
      "average reward:  0.627\n",
      "Well done!\n"
     ]
    }
   ],
   "source": [
    "# Measure agent's average reward\n",
    "mdp = FrozenLakeEnv(slip_chance=0.25)\n",
    "state_values = value_iteration(mdp)\n",
    "\n",
    "total_rewards = []\n",
    "for game_i in range(1000):\n",
    "    s = mdp.reset()\n",
    "    rewards = []\n",
    "    for t in range(100):\n",
    "        s, r, done, _ = mdp.step(\n",
    "            get_optimal_action(mdp, state_values, s, gamma))\n",
    "        rewards.append(r)\n",
    "        if done:\n",
    "            break\n",
    "    total_rewards.append(np.sum(rewards))\n",
    "\n",
    "print(\"average reward: \", np.mean(total_rewards))\n",
    "assert(0.6 <= np.mean(total_rewards) <= 0.7)\n",
    "print(\"Well done!\")"
   ]
  },
  {
   "cell_type": "code",
   "execution_count": 31,
   "metadata": {
    "tags": []
   },
   "outputs": [
    {
     "name": "stdout",
     "output_type": "stream",
     "text": [
      "iter    0   |   diff: 0.80000   |   V(start): 0.000 \n",
      "iter    1   |   diff: 0.57600   |   V(start): 0.000 \n",
      "iter    2   |   diff: 0.41472   |   V(start): 0.000 \n",
      "iter    3   |   diff: 0.29860   |   V(start): 0.000 \n",
      "iter    4   |   diff: 0.24186   |   V(start): 0.000 \n",
      "iter    5   |   diff: 0.19349   |   V(start): 0.000 \n",
      "iter    6   |   diff: 0.15325   |   V(start): 0.000 \n",
      "iter    7   |   diff: 0.12288   |   V(start): 0.000 \n",
      "iter    8   |   diff: 0.09930   |   V(start): 0.000 \n",
      "iter    9   |   diff: 0.08037   |   V(start): 0.000 \n",
      "iter   10   |   diff: 0.06426   |   V(start): 0.000 \n",
      "iter   11   |   diff: 0.05129   |   V(start): 0.000 \n",
      "iter   12   |   diff: 0.04330   |   V(start): 0.000 \n",
      "iter   13   |   diff: 0.03802   |   V(start): 0.033 \n",
      "iter   14   |   diff: 0.03332   |   V(start): 0.058 \n",
      "iter   15   |   diff: 0.02910   |   V(start): 0.087 \n",
      "iter   16   |   diff: 0.01855   |   V(start): 0.106 \n",
      "iter   17   |   diff: 0.01403   |   V(start): 0.120 \n",
      "iter   18   |   diff: 0.00810   |   V(start): 0.128 \n",
      "iter   19   |   diff: 0.00555   |   V(start): 0.133 \n",
      "iter   20   |   diff: 0.00321   |   V(start): 0.137 \n",
      "iter   21   |   diff: 0.00247   |   V(start): 0.138 \n",
      "iter   22   |   diff: 0.00147   |   V(start): 0.139 \n",
      "iter   23   |   diff: 0.00104   |   V(start): 0.140 \n",
      "iter   24   |   diff: 0.00058   |   V(start): 0.140 \n",
      "iter   25   |   diff: 0.00036   |   V(start): 0.141 \n",
      "iter   26   |   diff: 0.00024   |   V(start): 0.141 \n",
      "iter   27   |   diff: 0.00018   |   V(start): 0.141 \n",
      "iter   28   |   diff: 0.00012   |   V(start): 0.141 \n",
      "iter   29   |   diff: 0.00007   |   V(start): 0.141 \n",
      "iter   30   |   diff: 0.00004   |   V(start): 0.141 \n",
      "iter   31   |   diff: 0.00003   |   V(start): 0.141 \n",
      "iter   32   |   diff: 0.00001   |   V(start): 0.141 \n",
      "iter   33   |   diff: 0.00001   |   V(start): 0.141 \n",
      "average reward:  0.754\n",
      "Well done!\n"
     ]
    }
   ],
   "source": [
    "# Measure agent's average reward\n",
    "mdp = FrozenLakeEnv(slip_chance=0.2, map_name='8x8')\n",
    "state_values = value_iteration(mdp)\n",
    "\n",
    "total_rewards = []\n",
    "for game_i in range(1000):\n",
    "    s = mdp.reset()\n",
    "    rewards = []\n",
    "    for t in range(100):\n",
    "        s, r, done, _ = mdp.step(\n",
    "            get_optimal_action(mdp, state_values, s, gamma))\n",
    "        rewards.append(r)\n",
    "        if done:\n",
    "            break\n",
    "    total_rewards.append(np.sum(rewards))\n",
    "\n",
    "print(\"average reward: \", np.mean(total_rewards))\n",
    "assert(0.6 <= np.mean(total_rewards) <= 0.8)\n",
    "print(\"Well done!\")"
   ]
  },
  {
   "cell_type": "markdown",
   "metadata": {},
   "source": [
    "# Policy Iteration (up to 1 points)\n",
    "\n",
    "Let's implement exact policy iteration (PI), which has the following pseudocode:\n",
    "\n",
    "---\n",
    "Initialize $\\pi_0$   `// random or fixed action`\n",
    "\n",
    "For $n=0, 1, 2, \\dots$\n",
    "- Compute the state-value function $V^{\\pi_{n}}$\n",
    "- Using $V^{\\pi_{n}}$, compute the state-action-value function $Q^{\\pi_{n}}$\n",
    "- Compute new policy $\\pi_{n+1}(s) = \\underset{a}{\\operatorname*{argmax}} Q^{\\pi_{n}}(s,a)$\n",
    "---\n",
    "\n",
    "Unlike VI, policy iteration has to maintain a policy - chosen actions from all states - and estimate $V^{\\pi_{n}}$ based on this policy. It only changes policy once values converged.\n",
    "\n",
    "\n",
    "Below are a few helpers that you may or may not use in your implementation."
   ]
  },
  {
   "cell_type": "code",
   "execution_count": 32,
   "metadata": {
    "tags": []
   },
   "outputs": [],
   "source": [
    "transition_probs = {\n",
    "    's0': {\n",
    "        'a0': {'s0': 0.5, 's2': 0.5},\n",
    "        'a1': {'s2': 1}\n",
    "    },\n",
    "    's1': {\n",
    "        'a0': {'s0': 0.7, 's1': 0.1, 's2': 0.2},\n",
    "        'a1': {'s1': 0.95, 's2': 0.05}\n",
    "    },\n",
    "    's2': {\n",
    "        'a0': {'s0': 0.4, 's2': 0.6},\n",
    "        'a1': {'s0': 0.3, 's1': 0.3, 's2': 0.4}\n",
    "    }\n",
    "}\n",
    "rewards = {\n",
    "    's1': {'a0': {'s0': +5}},\n",
    "    's2': {'a1': {'s0': -1}}\n",
    "}\n",
    "\n",
    "mdp = MDP(transition_probs, rewards, initial_state='s0')"
   ]
  },
  {
   "cell_type": "markdown",
   "metadata": {},
   "source": [
    "Let's write a function called `compute_vpi` that computes the state-value function $V^{\\pi}$ for an arbitrary policy $\\pi$.\n",
    "\n",
    "Unlike VI, this time you must find the exact solution, not just a single iteration.\n",
    "\n",
    "Recall that $V^{\\pi}$ satisfies the following linear equation:\n",
    "$$V^{\\pi}(s) = \\sum_{s'} P(s,\\pi(s),s')[ R(s,\\pi(s),s') + \\gamma V^{\\pi}(s')]$$\n",
    "\n",
    "You'll have to solve a linear system in your code. (Find an exact solution, e.g., with `np.linalg.solve` or fixed-point iteration method.)\n",
    "\n",
    "**Note:**\n",
    "\n",
    "$$ V = (I - \\gamma P)^{-1} R$$"
   ]
  },
  {
   "cell_type": "code",
   "execution_count": 33,
   "metadata": {
    "tags": []
   },
   "outputs": [],
   "source": [
    "def compute_vpi(mdp, policy, gamma):\n",
    "    \"\"\"\n",
    "    Computes V^pi(s) FOR ALL STATES under given policy.\n",
    "    :param policy: a dict of currently chosen actions {s : a}\n",
    "    :returns: a dict {state : V^pi(state) for all states}\n",
    "    \"\"\"\n",
    "    all_states = mdp.get_all_states()\n",
    "    p_matrix = np.array([[mdp.get_transition_prob(state, policy[state], new_state) if not mdp.is_terminal(state) else 0 \n",
    "                          for state in all_states] \n",
    "                          for new_state in all_states])\n",
    "    r_matrix = np.array([[mdp.get_reward(state, policy[state], new_state) if not mdp.is_terminal(state) else 0\n",
    "                          for state in all_states] \n",
    "                          for new_state in all_states])\n",
    "    r_vector = np.sum(p_matrix * r_matrix, axis=0)\n",
    "    i_matrix = np.eye(mdp.n_states)\n",
    "    v_pi = np.linalg.solve(i_matrix - gamma * p_matrix.T, r_vector)\n",
    "    return {k: v_pi[v] for v, k in enumerate(all_states)}"
   ]
  },
  {
   "cell_type": "code",
   "execution_count": 34,
   "metadata": {
    "tags": []
   },
   "outputs": [
    {
     "name": "stdout",
     "output_type": "stream",
     "text": [
      "{'s0': -0.7320493642483172, 's1': -0.2776738967838444, 's2': -0.8947270007479434}\n"
     ]
    }
   ],
   "source": [
    "test_policy = {s: np.random.choice(\n",
    "    mdp.get_possible_actions(s)) for s in mdp.get_all_states()}\n",
    "new_vpi = compute_vpi(mdp, test_policy, gamma)\n",
    "\n",
    "print(new_vpi)\n",
    "\n",
    "assert type(\n",
    "    new_vpi) is dict, \"compute_vpi must return a dict {state : V^pi(state) for all states}\""
   ]
  },
  {
   "cell_type": "markdown",
   "metadata": {},
   "source": [
    "Once we've got new state values, it's time to update our policy."
   ]
  },
  {
   "cell_type": "code",
   "execution_count": 35,
   "metadata": {
    "tags": []
   },
   "outputs": [
    {
     "data": {
      "text/plain": [
       "dict_values(['a0', 'a0', 'a0'])"
      ]
     },
     "execution_count": 35,
     "metadata": {},
     "output_type": "execute_result"
    }
   ],
   "source": [
    "def compute_new_policy(mdp, vpi, gamma):\n",
    "    \"\"\"\n",
    "    Computes new policy as argmax of state values\n",
    "    :param vpi: a dict {state : V^pi(state) for all states}\n",
    "    :returns: a dict {state : optimal action for all states}\n",
    "    \"\"\"\n",
    "    return {state: get_optimal_action(mdp, vpi, state, gamma) for state in mdp.get_all_states()}\n",
    "\n",
    "compute_new_policy(mdp, new_vpi, gamma).values()"
   ]
  },
  {
   "cell_type": "code",
   "execution_count": 36,
   "metadata": {
    "tags": []
   },
   "outputs": [
    {
     "name": "stdout",
     "output_type": "stream",
     "text": [
      "{'s0': 'a0', 's1': 'a0', 's2': 'a0'}\n"
     ]
    }
   ],
   "source": [
    "new_policy = compute_new_policy(mdp, new_vpi, gamma)\n",
    "\n",
    "print(new_policy)\n",
    "\n",
    "assert type(\n",
    "    new_policy) is dict, \"compute_new_policy must return a dict {state : optimal action for all states}\""
   ]
  },
  {
   "cell_type": "markdown",
   "metadata": {},
   "source": [
    "__Main loop__"
   ]
  },
  {
   "cell_type": "code",
   "execution_count": 37,
   "metadata": {
    "tags": []
   },
   "outputs": [],
   "source": [
    "def policy_iteration(mdp, policy=None, gamma=0.9, num_iter=1000, min_difference=1e-5, debug_mode='mdp') -> tuple[dict, dict]:\n",
    "    \"\"\" \n",
    "    Run the policy iteration loop for num_iter iterations or till difference between V(s) is below min_difference.\n",
    "    If policy is not given, initialize it at random.\n",
    "    \"\"\"\n",
    "    if policy is None: \n",
    "        policy = {state: np.random.choice(mdp.get_possible_actions(state)) for state in mdp.get_all_states() if not mdp.is_terminal(state)}\n",
    "    old_vpi = {k: - float('inf') for k in mdp.get_all_states()}\n",
    "    for i in range(num_iter): \n",
    "        vpi = compute_vpi(mdp, policy, gamma)\n",
    "        diff = max(abs(vpi[state] - old_vpi[state]) for state in mdp.get_all_states())\n",
    "        if debug_mode == 'mdp':\n",
    "            print(\"iter %4i   |   diff: %7.5f   |   \" % (i, diff), end=\"\")\n",
    "            print('   '.join(\"V(%s) = %.3f\" % (s, v) for s, v in vpi.items()))   \n",
    "        else:\n",
    "            print(\"iter %4i   |   diff: %6.5f   |   V(start): %.3f \" %\n",
    "                  (i, diff, vpi[mdp._initial_state]))\n",
    "        if diff < min_difference:\n",
    "            break\n",
    "        old_vpi = vpi\n",
    "        policy = compute_new_policy(mdp, vpi, gamma)\n",
    "    state_values = vpi\n",
    "    return state_values, policy"
   ]
  },
  {
   "cell_type": "markdown",
   "metadata": {},
   "source": [
    "__Your PI Results__\n",
    "\n",
    "**Требуется**: \n",
    "\"для каждой из сред хотелось бы увидеть сравнение методов по количеству итераций до сходимости. Плюс для PI должны пройти те же ассерты для усредненной по нескольким играм награды.\"\n",
    "\n",
    "**Ответ**:\n",
    "\n",
    "1. Для PI потребовалось значительно меньше итераций во всех случаях, кроме сетапа с FrozenLake с slip_chance=0 (там примерно столько же). \n",
    "2. Все ассерты проходят"
   ]
  },
  {
   "cell_type": "markdown",
   "metadata": {},
   "source": [
    "#### Для MDP"
   ]
  },
  {
   "cell_type": "code",
   "execution_count": 38,
   "metadata": {
    "tags": []
   },
   "outputs": [
    {
     "name": "stdout",
     "output_type": "stream",
     "text": [
      "iter    0   |   diff:     inf   |   V(s0) = 0.000   V(s1) = 3.846   V(s2) = 0.000\n",
      "iter    1   |   diff: 3.47107   |   V(s0) = 2.840   V(s1) = 6.499   V(s2) = 3.471\n",
      "iter    2   |   diff: 0.94998   |   V(s0) = 3.790   V(s1) = 7.303   V(s2) = 4.211\n",
      "iter    3   |   diff: 0.00000   |   V(s0) = 3.790   V(s1) = 7.303   V(s2) = 4.211\n"
     ]
    }
   ],
   "source": [
    "# Количество итераций для mdp меньше более чем в 10 раз.\n",
    "state_values, policy = policy_iteration(mdp)"
   ]
  },
  {
   "cell_type": "code",
   "execution_count": 39,
   "metadata": {
    "tags": []
   },
   "outputs": [
    {
     "name": "stdout",
     "output_type": "stream",
     "text": [
      "average reward:  0.4942\n"
     ]
    }
   ],
   "source": [
    "# ассерты проходят\n",
    "s = mdp.reset()\n",
    "rewards = []\n",
    "for _ in range(10000):\n",
    "    s, r, done, _ = mdp.step(policy[s])\n",
    "    rewards.append(r)\n",
    "\n",
    "print(\"average reward: \", np.mean(rewards))\n",
    "assert(0.40 < np.mean(rewards) < 0.55)"
   ]
  },
  {
   "cell_type": "code",
   "execution_count": 40,
   "metadata": {},
   "outputs": [
    {
     "data": {
      "image/svg+xml": [
       "<?xml version=\"1.0\" encoding=\"UTF-8\" standalone=\"no\"?>\n",
       "<!DOCTYPE svg PUBLIC \"-//W3C//DTD SVG 1.1//EN\"\n",
       " \"http://www.w3.org/Graphics/SVG/1.1/DTD/svg11.dtd\">\n",
       "<!-- Generated by graphviz version 9.0.0 (0)\n",
       " -->\n",
       "<!-- Title: MDP Pages: 1 -->\n",
       "<svg width=\"1258pt\" height=\"324pt\"\n",
       " viewBox=\"0.00 0.00 1257.86 323.75\" xmlns=\"http://www.w3.org/2000/svg\" xmlns:xlink=\"http://www.w3.org/1999/xlink\">\n",
       "<g id=\"graph0\" class=\"graph\" transform=\"scale(1 1) rotate(0) translate(4 319.75)\">\n",
       "<title>MDP</title>\n",
       "<polygon fill=\"white\" stroke=\"none\" points=\"-4,4 -4,-319.75 1253.86,-319.75 1253.86,4 -4,4\"/>\n",
       "<!-- s0 -->\n",
       "<g id=\"node1\" class=\"node\">\n",
       "<title>s0</title>\n",
       "<ellipse fill=\"#85ff75\" stroke=\"#85ff75\" cx=\"74.71\" cy=\"-111\" rx=\"70.71\" ry=\"70.71\"/>\n",
       "<ellipse fill=\"none\" stroke=\"#85ff75\" cx=\"74.71\" cy=\"-111\" rx=\"74.71\" ry=\"74.71\"/>\n",
       "<text text-anchor=\"middle\" x=\"74.71\" y=\"-115.2\" font-family=\"Arial\" font-size=\"24.00\">s0</text>\n",
       "<text text-anchor=\"middle\" x=\"74.71\" y=\"-88.2\" font-family=\"Arial\" font-size=\"24.00\">V =3.78</text>\n",
       "</g>\n",
       "<!-- s0&#45;a0 -->\n",
       "<g id=\"node2\" class=\"node\">\n",
       "<title>s0&#45;a0</title>\n",
       "<ellipse fill=\"lightpink\" stroke=\"lightpink\" cx=\"271.14\" cy=\"-154\" rx=\"27.22\" ry=\"27.22\"/>\n",
       "<text text-anchor=\"middle\" x=\"271.14\" y=\"-146.62\" font-family=\"Arial\" font-size=\"20.00\">a0</text>\n",
       "</g>\n",
       "<!-- s0&#45;&gt;s0&#45;a0 -->\n",
       "<g id=\"edge1\" class=\"edge\">\n",
       "<title>s0&#45;&gt;s0&#45;a0</title>\n",
       "<path fill=\"none\" stroke=\"red\" stroke-width=\"2\" d=\"M148.84,-121.59C173.52,-125.84 201.1,-131.33 225.92,-138 228.85,-138.79 231.86,-139.68 234.87,-140.64\"/>\n",
       "<polygon fill=\"red\" stroke=\"red\" stroke-width=\"2\" points=\"232.13,-143.4 242.72,-143.31 234.38,-136.78 232.13,-143.4\"/>\n",
       "</g>\n",
       "<!-- s0&#45;a1 -->\n",
       "<g id=\"node4\" class=\"node\">\n",
       "<title>s0&#45;a1</title>\n",
       "<ellipse fill=\"lightpink\" stroke=\"lightpink\" cx=\"271.14\" cy=\"-226\" rx=\"27.22\" ry=\"27.22\"/>\n",
       "<text text-anchor=\"middle\" x=\"271.14\" y=\"-218.62\" font-family=\"Arial\" font-size=\"20.00\">a1</text>\n",
       "</g>\n",
       "<!-- s0&#45;&gt;s0&#45;a1 -->\n",
       "<g id=\"edge4\" class=\"edge\">\n",
       "<title>s0&#45;&gt;s0&#45;a1</title>\n",
       "<path fill=\"none\" stroke=\"red\" stroke-width=\"2\" d=\"M137.49,-151.61C147.42,-157.88 157.65,-164.2 167.42,-170 190.18,-183.5 216.38,-197.77 236.63,-208.52\"/>\n",
       "<polygon fill=\"red\" stroke=\"red\" stroke-width=\"2\" points=\"233.47,-210.81 243.94,-212.38 236.74,-204.62 233.47,-210.81\"/>\n",
       "</g>\n",
       "<!-- s0&#45;a0&#45;&gt;s0 -->\n",
       "<g id=\"edge2\" class=\"edge\">\n",
       "<title>s0&#45;a0&#45;&gt;s0</title>\n",
       "<path fill=\"none\" stroke=\"blue\" stroke-dasharray=\"5,2\" d=\"M243.86,-149.68C223.04,-146.13 193.27,-140.76 167.42,-135 164.44,-134.33 161.4,-133.64 158.34,-132.92\"/>\n",
       "<polygon fill=\"blue\" stroke=\"blue\" points=\"159.19,-129.53 148.65,-130.6 157.56,-136.33 159.19,-129.53\"/>\n",
       "<text text-anchor=\"middle\" x=\"196.67\" y=\"-150.55\" font-family=\"Arial\" font-size=\"16.00\">p = &#160;&#160;0.5</text>\n",
       "</g>\n",
       "<!-- s2 -->\n",
       "<g id=\"node3\" class=\"node\">\n",
       "<title>s2</title>\n",
       "<ellipse fill=\"#85ff75\" stroke=\"#85ff75\" cx=\"544.08\" cy=\"-202\" rx=\"70.71\" ry=\"70.71\"/>\n",
       "<ellipse fill=\"none\" stroke=\"#85ff75\" cx=\"544.08\" cy=\"-202\" rx=\"74.71\" ry=\"74.71\"/>\n",
       "<text text-anchor=\"middle\" x=\"544.08\" y=\"-206.2\" font-family=\"Arial\" font-size=\"24.00\">s2</text>\n",
       "<text text-anchor=\"middle\" x=\"544.08\" y=\"-179.2\" font-family=\"Arial\" font-size=\"24.00\">V =4.21</text>\n",
       "</g>\n",
       "<!-- s0&#45;a0&#45;&gt;s2 -->\n",
       "<g id=\"edge3\" class=\"edge\">\n",
       "<title>s0&#45;a0&#45;&gt;s2</title>\n",
       "<path fill=\"none\" stroke=\"blue\" stroke-dasharray=\"5,2\" d=\"M298.12,-158.6C334.8,-165.1 403.46,-177.26 458.78,-187.06\"/>\n",
       "<polygon fill=\"blue\" stroke=\"blue\" points=\"458.06,-190.49 468.52,-188.79 459.28,-183.6 458.06,-190.49\"/>\n",
       "<text text-anchor=\"middle\" x=\"383.87\" y=\"-189.55\" font-family=\"Arial\" font-size=\"16.00\">p = &#160;&#160;0.5</text>\n",
       "</g>\n",
       "<!-- s2&#45;a0 -->\n",
       "<g id=\"node8\" class=\"node\">\n",
       "<title>s2&#45;a0</title>\n",
       "<ellipse fill=\"lightpink\" stroke=\"lightpink\" cx=\"811.76\" cy=\"-163\" rx=\"27.22\" ry=\"27.22\"/>\n",
       "<text text-anchor=\"middle\" x=\"811.76\" y=\"-155.62\" font-family=\"Arial\" font-size=\"20.00\">a0</text>\n",
       "</g>\n",
       "<!-- s2&#45;&gt;s2&#45;a0 -->\n",
       "<g id=\"edge13\" class=\"edge\">\n",
       "<title>s2&#45;&gt;s2&#45;a0</title>\n",
       "<path fill=\"none\" stroke=\"red\" stroke-width=\"2\" d=\"M619.2,-201.88C662.73,-200.27 718.46,-195.54 766.54,-183 769.94,-182.11 773.4,-180.99 776.81,-179.72\"/>\n",
       "<polygon fill=\"red\" stroke=\"red\" stroke-width=\"2\" points=\"776.74,-183.54 784.64,-176.48 774.06,-177.07 776.74,-183.54\"/>\n",
       "</g>\n",
       "<!-- s2&#45;a1 -->\n",
       "<g id=\"node9\" class=\"node\">\n",
       "<title>s2&#45;a1</title>\n",
       "<ellipse fill=\"lightpink\" stroke=\"lightpink\" cx=\"811.76\" cy=\"-81\" rx=\"27.22\" ry=\"27.22\"/>\n",
       "<text text-anchor=\"middle\" x=\"811.76\" y=\"-73.62\" font-family=\"Arial\" font-size=\"20.00\">a1</text>\n",
       "</g>\n",
       "<!-- s2&#45;&gt;s2&#45;a1 -->\n",
       "<g id=\"edge16\" class=\"edge\">\n",
       "<title>s2&#45;&gt;s2&#45;a1</title>\n",
       "<path fill=\"none\" stroke=\"red\" stroke-width=\"2\" d=\"M608.87,-164.35C618.13,-159.32 627.63,-154.39 636.79,-150 683.33,-127.71 739.08,-106.52 774.7,-93.64\"/>\n",
       "<polygon fill=\"red\" stroke=\"red\" stroke-width=\"2\" points=\"774.44,-97.46 782.67,-90.79 772.08,-90.87 774.44,-97.46\"/>\n",
       "</g>\n",
       "<!-- s0&#45;a1&#45;&gt;s2 -->\n",
       "<g id=\"edge5\" class=\"edge\">\n",
       "<title>s0&#45;a1&#45;&gt;s2</title>\n",
       "<path fill=\"none\" stroke=\"blue\" stroke-dasharray=\"5,2\" d=\"M298.62,-223.66C335.24,-220.41 403.07,-214.4 458,-209.54\"/>\n",
       "<polygon fill=\"blue\" stroke=\"blue\" points=\"457.99,-213.05 467.65,-208.68 457.38,-206.08 457.99,-213.05\"/>\n",
       "<text text-anchor=\"middle\" x=\"383.87\" y=\"-224.55\" font-family=\"Arial\" font-size=\"16.00\">p = &#160;&#160;1</text>\n",
       "</g>\n",
       "<!-- s1 -->\n",
       "<g id=\"node5\" class=\"node\">\n",
       "<title>s1</title>\n",
       "<ellipse fill=\"#85ff75\" stroke=\"#85ff75\" cx=\"1017.2\" cy=\"-111\" rx=\"70.71\" ry=\"70.71\"/>\n",
       "<ellipse fill=\"none\" stroke=\"#85ff75\" cx=\"1017.2\" cy=\"-111\" rx=\"74.71\" ry=\"74.71\"/>\n",
       "<text text-anchor=\"middle\" x=\"1017.2\" y=\"-115.2\" font-family=\"Arial\" font-size=\"24.00\">s1</text>\n",
       "<text text-anchor=\"middle\" x=\"1017.2\" y=\"-88.2\" font-family=\"Arial\" font-size=\"24.00\">V =7.30</text>\n",
       "</g>\n",
       "<!-- s1&#45;a0 -->\n",
       "<g id=\"node6\" class=\"node\">\n",
       "<title>s1&#45;a0</title>\n",
       "<ellipse fill=\"lightpink\" stroke=\"lightpink\" cx=\"1222.63\" cy=\"-87\" rx=\"27.22\" ry=\"27.22\"/>\n",
       "<text text-anchor=\"middle\" x=\"1222.63\" y=\"-79.62\" font-family=\"Arial\" font-size=\"20.00\">a0</text>\n",
       "</g>\n",
       "<!-- s1&#45;&gt;s1&#45;a0 -->\n",
       "<g id=\"edge6\" class=\"edge\">\n",
       "<title>s1&#45;&gt;s1&#45;a0</title>\n",
       "<path fill=\"none\" stroke=\"red\" stroke-width=\"2\" d=\"M1092.17,-106.58C1119.1,-104.42 1149.72,-101.33 1177.41,-97 1179.87,-96.61 1182.4,-96.17 1184.95,-95.69\"/>\n",
       "<polygon fill=\"red\" stroke=\"red\" stroke-width=\"2\" points=\"1183.97,-99.47 1193.06,-94.02 1182.56,-92.61 1183.97,-99.47\"/>\n",
       "</g>\n",
       "<!-- s1&#45;a1 -->\n",
       "<g id=\"node7\" class=\"node\">\n",
       "<title>s1&#45;a1</title>\n",
       "<ellipse fill=\"lightpink\" stroke=\"lightpink\" cx=\"1222.63\" cy=\"-169\" rx=\"27.22\" ry=\"27.22\"/>\n",
       "<text text-anchor=\"middle\" x=\"1222.63\" y=\"-161.62\" font-family=\"Arial\" font-size=\"20.00\">a1</text>\n",
       "</g>\n",
       "<!-- s1&#45;&gt;s1&#45;a1 -->\n",
       "<g id=\"edge10\" class=\"edge\">\n",
       "<title>s1&#45;&gt;s1&#45;a1</title>\n",
       "<path fill=\"none\" stroke=\"red\" stroke-width=\"2\" d=\"M1090.64,-126.08C1118.11,-132.49 1149.48,-140.65 1177.41,-150 1180.53,-151.04 1183.74,-152.22 1186.93,-153.45\"/>\n",
       "<polygon fill=\"red\" stroke=\"red\" stroke-width=\"2\" points=\"1184.2,-156.12 1194.78,-156.67 1186.85,-149.64 1184.2,-156.12\"/>\n",
       "</g>\n",
       "<!-- s1&#45;a0&#45;&gt;s0 -->\n",
       "<g id=\"edge7\" class=\"edge\">\n",
       "<title>s1&#45;a0&#45;&gt;s0</title>\n",
       "<path fill=\"none\" stroke=\"blue\" stroke-dasharray=\"5,2\" d=\"M1200.35,-71.04C1164.66,-45.93 1089.65,0 1018.2,0 270.14,0 270.14,0 270.14,0 221.77,0 174.48,-26.23 138.65,-53.19\"/>\n",
       "<polygon fill=\"blue\" stroke=\"blue\" points=\"136.76,-50.23 130.99,-59.12 141.04,-55.77 136.76,-50.23\"/>\n",
       "<text text-anchor=\"middle\" x=\"701.66\" y=\"-3.55\" font-family=\"Arial\" font-size=\"16.00\">p = 0.7 &#160;reward =5</text>\n",
       "</g>\n",
       "<!-- s1&#45;a0&#45;&gt;s2 -->\n",
       "<g id=\"edge9\" class=\"edge\">\n",
       "<title>s1&#45;a0&#45;&gt;s2</title>\n",
       "<path fill=\"none\" stroke=\"blue\" stroke-dasharray=\"5,2\" d=\"M1207.43,-109.96C1203.27,-117.19 1198.9,-125.3 1195.41,-133 1185.31,-155.27 1196.47,-169.68 1177.41,-185 1095.46,-250.86 782.41,-227.72 629.76,-211.86\"/>\n",
       "<polygon fill=\"blue\" stroke=\"blue\" points=\"630.43,-208.41 620.12,-210.84 629.69,-215.37 630.43,-208.41\"/>\n",
       "<text text-anchor=\"middle\" x=\"890.74\" y=\"-232.55\" font-family=\"Arial\" font-size=\"16.00\">p = &#160;&#160;0.2</text>\n",
       "</g>\n",
       "<!-- s1&#45;a0&#45;&gt;s1 -->\n",
       "<g id=\"edge8\" class=\"edge\">\n",
       "<title>s1&#45;a0&#45;&gt;s1</title>\n",
       "<path fill=\"none\" stroke=\"blue\" stroke-dasharray=\"5,2\" d=\"M1196.64,-78.48C1190.43,-76.72 1183.74,-75.14 1177.41,-74.25 1147.7,-70.05 1139.37,-68.57 1109.91,-74.25 1105.58,-75.09 1101.2,-76.12 1096.81,-77.31\"/>\n",
       "<polygon fill=\"blue\" stroke=\"blue\" points=\"1095.97,-73.91 1087.39,-80.13 1097.98,-80.62 1095.97,-73.91\"/>\n",
       "<text text-anchor=\"middle\" x=\"1143.66\" y=\"-78.55\" font-family=\"Arial\" font-size=\"16.00\">p = &#160;&#160;0.1</text>\n",
       "</g>\n",
       "<!-- s1&#45;a1&#45;&gt;s2 -->\n",
       "<g id=\"edge12\" class=\"edge\">\n",
       "<title>s1&#45;a1&#45;&gt;s2</title>\n",
       "<path fill=\"none\" stroke=\"blue\" stroke-dasharray=\"5,2\" d=\"M1212.05,-194.32C1204.93,-209.29 1193.63,-227.02 1177.41,-236 967.19,-352.36 872.69,-281.65 636.79,-236 632.76,-235.22 628.67,-234.28 624.58,-233.23\"/>\n",
       "<polygon fill=\"blue\" stroke=\"blue\" points=\"625.77,-229.93 615.2,-230.59 623.88,-236.67 625.77,-229.93\"/>\n",
       "<text text-anchor=\"middle\" x=\"890.74\" y=\"-300.55\" font-family=\"Arial\" font-size=\"16.00\">p = &#160;&#160;0.05</text>\n",
       "</g>\n",
       "<!-- s1&#45;a1&#45;&gt;s1 -->\n",
       "<g id=\"edge11\" class=\"edge\">\n",
       "<title>s1&#45;a1&#45;&gt;s1</title>\n",
       "<path fill=\"none\" stroke=\"blue\" stroke-dasharray=\"5,2\" d=\"M1195.58,-165.23C1172.73,-161.6 1138.75,-155.43 1109.91,-147 1105.73,-145.78 1101.48,-144.45 1097.21,-143.04\"/>\n",
       "<polygon fill=\"blue\" stroke=\"blue\" points=\"1098.62,-139.82 1088.02,-139.88 1096.34,-146.44 1098.62,-139.82\"/>\n",
       "<text text-anchor=\"middle\" x=\"1143.66\" y=\"-165.55\" font-family=\"Arial\" font-size=\"16.00\">p = &#160;&#160;0.95</text>\n",
       "</g>\n",
       "<!-- s2&#45;a0&#45;&gt;s0 -->\n",
       "<g id=\"edge14\" class=\"edge\">\n",
       "<title>s2&#45;a0&#45;&gt;s0</title>\n",
       "<path fill=\"none\" stroke=\"blue\" stroke-dasharray=\"5,2\" d=\"M785.33,-155.02C748.88,-144.05 679.5,-124.9 618.79,-118 457.88,-99.73 268.45,-102.82 161.18,-106.84\"/>\n",
       "<polygon fill=\"blue\" stroke=\"blue\" points=\"161.16,-103.34 151.3,-107.22 161.43,-110.33 161.16,-103.34\"/>\n",
       "<text text-anchor=\"middle\" x=\"383.87\" y=\"-109.55\" font-family=\"Arial\" font-size=\"16.00\">p = &#160;&#160;0.4</text>\n",
       "</g>\n",
       "<!-- s2&#45;a0&#45;&gt;s2 -->\n",
       "<g id=\"edge15\" class=\"edge\">\n",
       "<title>s2&#45;a0&#45;&gt;s2</title>\n",
       "<path fill=\"none\" stroke=\"blue\" stroke-dasharray=\"5,2\" d=\"M784.46,-158.9C750.07,-154.38 688.16,-149.11 636.79,-160.25 631.85,-161.32 626.85,-162.68 621.88,-164.26\"/>\n",
       "<polygon fill=\"blue\" stroke=\"blue\" points=\"620.79,-160.93 612.49,-167.51 623.08,-167.55 620.79,-160.93\"/>\n",
       "<text text-anchor=\"middle\" x=\"701.66\" y=\"-164.55\" font-family=\"Arial\" font-size=\"16.00\">p = &#160;&#160;0.6</text>\n",
       "</g>\n",
       "<!-- s2&#45;a1&#45;&gt;s0 -->\n",
       "<g id=\"edge17\" class=\"edge\">\n",
       "<title>s2&#45;a1&#45;&gt;s0</title>\n",
       "<path fill=\"none\" stroke=\"blue\" stroke-dasharray=\"5,2\" d=\"M788.71,-66.25C781.89,-62.48 774.16,-58.93 766.54,-57 710.65,-42.81 694.46,-56.89 636.79,-57 494.38,-57.28 458.19,-45.34 316.37,-58.25 249.39,-64.35 232.95,-69.86 167.42,-85 164.28,-85.72 161.09,-86.49 157.88,-87.28\"/>\n",
       "<polygon fill=\"blue\" stroke=\"blue\" points=\"157.17,-83.85 148.34,-89.71 158.9,-90.63 157.17,-83.85\"/>\n",
       "<text text-anchor=\"middle\" x=\"383.87\" y=\"-62.55\" font-family=\"Arial\" font-size=\"16.00\">p = 0.3 &#160;reward =&#45;1</text>\n",
       "</g>\n",
       "<!-- s2&#45;a1&#45;&gt;s2 -->\n",
       "<g id=\"edge19\" class=\"edge\">\n",
       "<title>s2&#45;a1&#45;&gt;s2</title>\n",
       "<path fill=\"none\" stroke=\"blue\" stroke-dasharray=\"5,2\" d=\"M785.49,-72.91C750.09,-63.12 684.7,-50.78 636.79,-75.25 615.07,-86.34 597.31,-105.24 583.4,-125.11\"/>\n",
       "<polygon fill=\"blue\" stroke=\"blue\" points=\"580.55,-123.08 577.91,-133.34 586.37,-126.96 580.55,-123.08\"/>\n",
       "<text text-anchor=\"middle\" x=\"701.66\" y=\"-79.55\" font-family=\"Arial\" font-size=\"16.00\">p = &#160;&#160;0.4</text>\n",
       "</g>\n",
       "<!-- s2&#45;a1&#45;&gt;s1 -->\n",
       "<g id=\"edge18\" class=\"edge\">\n",
       "<title>s2&#45;a1&#45;&gt;s1</title>\n",
       "<path fill=\"none\" stroke=\"blue\" stroke-dasharray=\"5,2\" d=\"M838.94,-84.86C862.47,-88.33 898.34,-93.62 931.68,-98.54\"/>\n",
       "<polygon fill=\"blue\" stroke=\"blue\" points=\"930.96,-101.97 941.37,-99.97 931.99,-95.04 930.96,-101.97\"/>\n",
       "<text text-anchor=\"middle\" x=\"890.74\" y=\"-100.55\" font-family=\"Arial\" font-size=\"16.00\">p = &#160;&#160;0.3</text>\n",
       "</g>\n",
       "</g>\n",
       "</svg>\n"
      ],
      "text/plain": [
       "<graphviz.graphs.Digraph at 0x7fe5d08cba50>"
      ]
     },
     "metadata": {},
     "output_type": "display_data"
    }
   ],
   "source": [
    "# визуализация для марковского процесса\n",
    "if has_graphviz:\n",
    "    display(plot_graph_with_state_values(mdp, state_values))"
   ]
  },
  {
   "cell_type": "markdown",
   "metadata": {},
   "source": [
    "#### Для FrozenLake"
   ]
  },
  {
   "cell_type": "code",
   "execution_count": 41,
   "metadata": {
    "tags": []
   },
   "outputs": [
    {
     "name": "stdout",
     "output_type": "stream",
     "text": [
      "iter    0   |   diff:    inf   |   V(start): 0.000 \n",
      "iter    1   |   diff: 1.00000   |   V(start): -0.000 \n",
      "iter    2   |   diff: 0.90000   |   V(start): -0.000 \n",
      "iter    3   |   diff: 0.81000   |   V(start): -0.000 \n",
      "iter    4   |   diff: 0.72900   |   V(start): -0.000 \n",
      "iter    5   |   diff: 0.65610   |   V(start): 0.000 \n",
      "iter    6   |   diff: 0.59049   |   V(start): 0.590 \n",
      "iter    7   |   diff: 0.00000   |   V(start): 0.590 \n",
      "average reward:  1.0\n",
      "Well done!\n"
     ]
    }
   ],
   "source": [
    "# Вот тут итераций понадобилось примерно столько же\n",
    "mdp = FrozenLakeEnv(slip_chance=0)\n",
    "state_values, policy = policy_iteration(mdp, debug_mode='frozenlake')\n",
    "\n",
    "total_rewards = []\n",
    "for game_i in range(1000):\n",
    "    s = mdp.reset()\n",
    "    rewards = []\n",
    "    for t in range(100):\n",
    "        s, r, done, _ = mdp.step(policy[s])\n",
    "        rewards.append(r)\n",
    "        if done:\n",
    "            break\n",
    "    total_rewards.append(np.sum(rewards))\n",
    "\n",
    "print(\"average reward: \", np.mean(total_rewards))\n",
    "assert(1.0 <= np.mean(total_rewards) <= 1.0)\n",
    "print(\"Well done!\")"
   ]
  },
  {
   "cell_type": "code",
   "execution_count": 42,
   "metadata": {
    "tags": []
   },
   "outputs": [
    {
     "name": "stdout",
     "output_type": "stream",
     "text": [
      "iter    0   |   diff:    inf   |   V(start): 0.000 \n",
      "iter    1   |   diff: 0.84802   |   V(start): 0.490 \n",
      "iter    2   |   diff: 0.00000   |   V(start): 0.490 \n",
      "average reward:  0.885\n",
      "Well done!\n"
     ]
    }
   ],
   "source": [
    "# Тут итераций понадобилось меньше\n",
    "mdp = FrozenLakeEnv(slip_chance=0.1)\n",
    "state_values, policy = policy_iteration(mdp, debug_mode='frozenlake')\n",
    "\n",
    "total_rewards = []\n",
    "for game_i in range(1000):\n",
    "    s = mdp.reset()\n",
    "    rewards = []\n",
    "    for t in range(100):\n",
    "        s, r, done, _ = mdp.step(policy[s])\n",
    "        rewards.append(r)\n",
    "        if done:\n",
    "            break\n",
    "    total_rewards.append(np.sum(rewards))\n",
    "\n",
    "print(\"average reward: \", np.mean(total_rewards))\n",
    "assert(0.8 <= np.mean(total_rewards) <= 0.95)\n",
    "print(\"Well done!\")"
   ]
  },
  {
   "cell_type": "code",
   "execution_count": 43,
   "metadata": {
    "tags": []
   },
   "outputs": [
    {
     "name": "stdout",
     "output_type": "stream",
     "text": [
      "iter    0   |   diff:    inf   |   V(start): -0.000 \n",
      "iter    1   |   diff: 0.66622   |   V(start): 0.325 \n",
      "iter    2   |   diff: 0.00000   |   V(start): 0.325 \n",
      "average reward:  0.641\n",
      "Well done!\n"
     ]
    }
   ],
   "source": [
    "# Тут тоже меньше итераций понадобилось\n",
    "mdp = FrozenLakeEnv(slip_chance=0.25)\n",
    "state_values, policy = policy_iteration(mdp, debug_mode='frozenlake')\n",
    "\n",
    "total_rewards = []\n",
    "for game_i in range(1000):\n",
    "    s = mdp.reset()\n",
    "    rewards = []\n",
    "    for t in range(100):\n",
    "        s, r, done, _ = mdp.step(policy[s])\n",
    "        rewards.append(r)\n",
    "        if done:\n",
    "            break\n",
    "    total_rewards.append(np.sum(rewards))\n",
    "\n",
    "print(\"average reward: \", np.mean(total_rewards))\n",
    "assert(0.6 <= np.mean(total_rewards) <= 0.7)\n",
    "print(\"Well done!\")"
   ]
  },
  {
   "cell_type": "code",
   "execution_count": 44,
   "metadata": {
    "tags": []
   },
   "outputs": [
    {
     "name": "stdout",
     "output_type": "stream",
     "text": [
      "iter    0   |   diff:    inf   |   V(start): 0.000 \n",
      "iter    1   |   diff: 0.87912   |   V(start): -0.000 \n",
      "iter    2   |   diff: 0.61411   |   V(start): 0.000 \n",
      "iter    3   |   diff: 0.25676   |   V(start): 0.136 \n",
      "iter    4   |   diff: 0.04099   |   V(start): 0.141 \n",
      "iter    5   |   diff: 0.00657   |   V(start): 0.141 \n",
      "iter    6   |   diff: 0.00231   |   V(start): 0.141 \n",
      "iter    7   |   diff: 0.00056   |   V(start): 0.141 \n",
      "iter    8   |   diff: 0.00000   |   V(start): 0.141 \n",
      "average reward:  0.716\n",
      "Well done!\n"
     ]
    }
   ],
   "source": [
    "# В этом случае итераций приблизительно в 4 раза меньше\n",
    "mdp = FrozenLakeEnv(slip_chance=0.2, map_name='8x8')\n",
    "state_values, policy = policy_iteration(mdp, debug_mode='frozenlake')\n",
    "\n",
    "total_rewards = []\n",
    "for game_i in range(1000):\n",
    "    s = mdp.reset()\n",
    "    rewards = []\n",
    "    for t in range(100):\n",
    "        s, r, done, _ = mdp.step(policy[s])\n",
    "        rewards.append(r)\n",
    "        if done:\n",
    "            break\n",
    "    total_rewards.append(np.sum(rewards))\n",
    "\n",
    "print(\"average reward: \", np.mean(total_rewards))\n",
    "assert(0.6 <= np.mean(total_rewards) <= 0.8)\n",
    "print(\"Well done!\")"
   ]
  },
  {
   "cell_type": "code",
   "execution_count": 45,
   "metadata": {
    "tags": []
   },
   "outputs": [
    {
     "name": "stdout",
     "output_type": "stream",
     "text": [
      "iter    0   |   diff:    inf   |   V(start): 0.000 \n",
      "iter    1   |   diff: 0.75691   |   V(start): 0.183 \n",
      "iter    2   |   diff: 0.21846   |   V(start): 0.196 \n",
      "iter    3   |   diff: 0.13846   |   V(start): 0.198 \n",
      "iter    4   |   diff: 0.10346   |   V(start): 0.198 \n",
      "iter    5   |   diff: 0.05584   |   V(start): 0.198 \n",
      "iter    6   |   diff: 0.01848   |   V(start): 0.198 \n",
      "iter    7   |   diff: 0.00000   |   V(start): 0.198 \n",
      "average reward:  0.873\n",
      "Well done!\n"
     ]
    }
   ],
   "source": [
    "# В этом случае итераций приблизительно в 4 раза меньше\n",
    "mdp = FrozenLakeEnv(slip_chance=0.1, map_name='8x8')\n",
    "state_values, policy = policy_iteration(mdp, debug_mode='frozenlake')\n",
    "\n",
    "total_rewards = []\n",
    "for game_i in range(1000):\n",
    "    s = mdp.reset()\n",
    "    rewards = []\n",
    "    for t in range(100):\n",
    "        s, r, done, _ = mdp.step(policy[s])\n",
    "        rewards.append(r)\n",
    "        if done:\n",
    "            break\n",
    "    total_rewards.append(np.sum(rewards))\n",
    "\n",
    "print(\"average reward: \", np.mean(total_rewards))\n",
    "assert(0.6 <= np.mean(total_rewards) <= 0.9)\n",
    "print(\"Well done!\")"
   ]
  },
  {
   "cell_type": "code",
   "execution_count": 46,
   "metadata": {
    "tags": []
   },
   "outputs": [
    {
     "name": "stdout",
     "output_type": "stream",
     "text": [
      "iter    0   |   diff:    inf   |   V(start): 0.000 \n",
      "iter    1   |   diff: 0.94241   |   V(start): 0.144 \n",
      "iter    2   |   diff: 0.65173   |   V(start): 0.147 \n",
      "iter    3   |   diff: 0.41341   |   V(start): 0.148 \n",
      "iter    4   |   diff: 0.28950   |   V(start): 0.160 \n",
      "iter    5   |   diff: 0.12799   |   V(start): 0.187 \n",
      "iter    6   |   diff: 0.05584   |   V(start): 0.198 \n",
      "iter    7   |   diff: 0.01848   |   V(start): 0.198 \n"
     ]
    },
    {
     "data": {
      "image/png": "[encoded data removed]",
      "text/plain": [
       "<Figure size 300x300 with 1 Axes>"
      ]
     },
     "metadata": {},
     "output_type": "display_data"
    }
   ],
   "source": [
    "# Визуализация\n",
    "mdp = FrozenLakeEnv(map_name='8x8', slip_chance=0.1)\n",
    "\n",
    "for i in range(8):\n",
    "    clear_output(True)\n",
    "    state_values, policy = policy_iteration(mdp, num_iter=i+1, debug_mode='frozenlake')\n",
    "    draw_policy(mdp, state_values)\n",
    "    sleep(0.5)"
   ]
  },
  {
   "cell_type": "markdown",
   "metadata": {},
   "source": [
    "# Find an MDP for which value iteration takes long to converge  (up to 0.5 points)\n",
    "\n",
    "When we ran value iteration on the small frozen lake problem, the last iteration where an action changed was iteration 6 -- i.e., value iteration computed the optimal policy at iteration 6. Are there any guarantees regarding how many iterations it'll take value iteration to compute the optimal policy? There are no such guarantees without additional assumptions -- we can construct the MDP in such a way that the greedy policy will change after arbitrarily many iterations.\n",
    "\n",
    "Your task: define an MDP with at most 3 states and 2 actions, such that when you run value iteration, the optimal action changes at iteration >= 50. Use discount=0.95. (However, note that the discount doesn't matter here -- you can construct an appropriate MDP with any discount.)\n",
    "\n",
    "Note: value function must change at least once after iteration >=50, not necessarily change on every iteration till >=50.\n",
    "\n",
    "Note: by default `initial state` is selected randomly, you might want to change this."
   ]
  },
  {
   "cell_type": "code",
   "execution_count": 54,
   "metadata": {},
   "outputs": [
    {
     "data": {
      "image/svg+xml": [
       "<?xml version=\"1.0\" encoding=\"UTF-8\" standalone=\"no\"?>\n",
       "<!DOCTYPE svg PUBLIC \"-//W3C//DTD SVG 1.1//EN\"\n",
       " \"http://www.w3.org/Graphics/SVG/1.1/DTD/svg11.dtd\">\n",
       "<!-- Generated by graphviz version 9.0.0 (0)\n",
       " -->\n",
       "<!-- Title: MDP Pages: 1 -->\n",
       "<svg width=\"798pt\" height=\"226pt\"\n",
       " viewBox=\"0.00 0.00 798.14 226.45\" xmlns=\"http://www.w3.org/2000/svg\" xmlns:xlink=\"http://www.w3.org/1999/xlink\">\n",
       "<g id=\"graph0\" class=\"graph\" transform=\"scale(1 1) rotate(0) translate(4 222.45)\">\n",
       "<title>MDP</title>\n",
       "<polygon fill=\"white\" stroke=\"none\" points=\"-4,4 -4,-222.45 794.14,-222.45 794.14,4 -4,4\"/>\n",
       "<!-- s0 -->\n",
       "<g id=\"node1\" class=\"node\">\n",
       "<title>s0</title>\n",
       "<ellipse fill=\"#85ff75\" stroke=\"#85ff75\" cx=\"40\" cy=\"-111.22\" rx=\"36\" ry=\"36\"/>\n",
       "<ellipse fill=\"none\" stroke=\"#85ff75\" cx=\"40\" cy=\"-111.22\" rx=\"40\" ry=\"40\"/>\n",
       "<text text-anchor=\"middle\" x=\"40\" y=\"-101.92\" font-family=\"Arial\" font-size=\"24.00\">s0</text>\n",
       "</g>\n",
       "<!-- s0&#45;a0 -->\n",
       "<g id=\"node2\" class=\"node\">\n",
       "<title>s0&#45;a0</title>\n",
       "<ellipse fill=\"lightpink\" stroke=\"lightpink\" cx=\"278.22\" cy=\"-191.22\" rx=\"27.22\" ry=\"27.22\"/>\n",
       "<text text-anchor=\"middle\" x=\"278.22\" y=\"-183.85\" font-family=\"Arial\" font-size=\"20.00\">a0</text>\n",
       "</g>\n",
       "<!-- s0&#45;&gt;s0&#45;a0 -->\n",
       "<g id=\"edge1\" class=\"edge\">\n",
       "<title>s0&#45;&gt;s0&#45;a0</title>\n",
       "<path fill=\"none\" stroke=\"red\" stroke-width=\"2\" d=\"M60.49,-145.92C69.96,-159.37 82.64,-173.39 98,-181.22 142.78,-204.06 202.29,-202.09 240.18,-197.5\"/>\n",
       "<polygon fill=\"red\" stroke=\"red\" stroke-width=\"2\" points=\"238.77,-201.23 248.21,-196.43 237.83,-194.29 238.77,-201.23\"/>\n",
       "</g>\n",
       "<!-- s0&#45;a1 -->\n",
       "<g id=\"node4\" class=\"node\">\n",
       "<title>s0&#45;a1</title>\n",
       "<ellipse fill=\"lightpink\" stroke=\"lightpink\" cx=\"278.22\" cy=\"-119.22\" rx=\"27.22\" ry=\"27.22\"/>\n",
       "<text text-anchor=\"middle\" x=\"278.22\" y=\"-111.85\" font-family=\"Arial\" font-size=\"20.00\">a1</text>\n",
       "</g>\n",
       "<!-- s0&#45;&gt;s0&#45;a1 -->\n",
       "<g id=\"edge4\" class=\"edge\">\n",
       "<title>s0&#45;&gt;s0&#45;a1</title>\n",
       "<path fill=\"none\" stroke=\"red\" stroke-width=\"2\" d=\"M80.24,-113.42C86.19,-113.71 92.26,-113.99 98,-114.22 146.76,-116.19 203.02,-117.62 239.3,-118.44\"/>\n",
       "<polygon fill=\"red\" stroke=\"red\" stroke-width=\"2\" points=\"237.7,-121.9 247.77,-118.62 237.85,-114.9 237.7,-121.9\"/>\n",
       "</g>\n",
       "<!-- s0&#45;a0&#45;&gt;s0 -->\n",
       "<g id=\"edge2\" class=\"edge\">\n",
       "<title>s0&#45;a0&#45;&gt;s0</title>\n",
       "<path fill=\"none\" stroke=\"blue\" stroke-dasharray=\"5,2\" d=\"M257.23,-173.61C250.01,-168.04 241.53,-162.34 233,-158.47 177.08,-133.14 157.33,-144.98 98,-129.22 95.09,-128.45 92.11,-127.62 89.11,-126.76\"/>\n",
       "<polygon fill=\"blue\" stroke=\"blue\" points=\"90.3,-123.46 79.71,-123.97 88.3,-130.17 90.3,-123.46\"/>\n",
       "<text text-anchor=\"middle\" x=\"165.5\" y=\"-161.77\" font-family=\"Arial\" font-size=\"16.00\">p = 0.5 &#160;reward =&#45;1</text>\n",
       "</g>\n",
       "<!-- s1 -->\n",
       "<g id=\"node3\" class=\"node\">\n",
       "<title>s1</title>\n",
       "<ellipse fill=\"#85ff75\" stroke=\"#85ff75\" cx=\"516.45\" cy=\"-129.22\" rx=\"36\" ry=\"36\"/>\n",
       "<ellipse fill=\"none\" stroke=\"#85ff75\" cx=\"516.45\" cy=\"-129.22\" rx=\"40\" ry=\"40\"/>\n",
       "<text text-anchor=\"middle\" x=\"516.45\" y=\"-119.92\" font-family=\"Arial\" font-size=\"24.00\">s1</text>\n",
       "</g>\n",
       "<!-- s0&#45;a0&#45;&gt;s1 -->\n",
       "<g id=\"edge3\" class=\"edge\">\n",
       "<title>s0&#45;a0&#45;&gt;s1</title>\n",
       "<path fill=\"none\" stroke=\"blue\" stroke-dasharray=\"5,2\" d=\"M305.27,-186.04C340.35,-178.84 404.6,-164.93 458.45,-149.22 461.51,-148.33 464.66,-147.36 467.82,-146.36\"/>\n",
       "<polygon fill=\"blue\" stroke=\"blue\" points=\"468.7,-149.75 477.1,-143.3 466.5,-143.11 468.7,-149.75\"/>\n",
       "<text text-anchor=\"middle\" x=\"390.95\" y=\"-184.77\" font-family=\"Arial\" font-size=\"16.00\">p = 0.5 &#160;reward =1</text>\n",
       "</g>\n",
       "<!-- s1&#45;a0 -->\n",
       "<g id=\"node5\" class=\"node\">\n",
       "<title>s1&#45;a0</title>\n",
       "<ellipse fill=\"lightpink\" stroke=\"lightpink\" cx=\"762.92\" cy=\"-27.22\" rx=\"27.22\" ry=\"27.22\"/>\n",
       "<text text-anchor=\"middle\" x=\"762.92\" y=\"-19.85\" font-family=\"Arial\" font-size=\"20.00\">a0</text>\n",
       "</g>\n",
       "<!-- s1&#45;&gt;s1&#45;a0 -->\n",
       "<g id=\"edge7\" class=\"edge\">\n",
       "<title>s1&#45;&gt;s1&#45;a0</title>\n",
       "<path fill=\"none\" stroke=\"red\" stroke-width=\"2\" d=\"M554.47,-115.93C595.02,-101.07 661.76,-75.72 717.7,-50.22 721.27,-48.59 724.97,-46.82 728.63,-45\"/>\n",
       "<polygon fill=\"red\" stroke=\"red\" stroke-width=\"2\" points=\"728.71,-48.89 736.04,-41.23 725.54,-42.65 728.71,-48.89\"/>\n",
       "</g>\n",
       "<!-- s1&#45;a1 -->\n",
       "<g id=\"node6\" class=\"node\">\n",
       "<title>s1&#45;a1</title>\n",
       "<ellipse fill=\"lightpink\" stroke=\"lightpink\" cx=\"762.92\" cy=\"-111.22\" rx=\"27.22\" ry=\"27.22\"/>\n",
       "<text text-anchor=\"middle\" x=\"762.92\" y=\"-103.85\" font-family=\"Arial\" font-size=\"20.00\">a1</text>\n",
       "</g>\n",
       "<!-- s1&#45;&gt;s1&#45;a1 -->\n",
       "<g id=\"edge10\" class=\"edge\">\n",
       "<title>s1&#45;&gt;s1&#45;a1</title>\n",
       "<path fill=\"none\" stroke=\"red\" stroke-width=\"2\" d=\"M556.73,-126.33C602.82,-122.94 678.71,-117.35 724.14,-114.01\"/>\n",
       "<polygon fill=\"red\" stroke=\"red\" stroke-width=\"2\" points=\"722.81,-117.61 732.53,-113.39 722.3,-110.63 722.81,-117.61\"/>\n",
       "</g>\n",
       "<!-- s0&#45;a1&#45;&gt;s0 -->\n",
       "<g id=\"edge6\" class=\"edge\">\n",
       "<title>s0&#45;a1&#45;&gt;s0</title>\n",
       "<path fill=\"none\" stroke=\"blue\" stroke-dasharray=\"5,2\" d=\"M256.35,-102.78C249.33,-98.2 241.19,-93.83 233,-91.47 175.34,-74.88 157.17,-81.51 98,-91.47 94.85,-92 91.65,-92.69 88.44,-93.48\"/>\n",
       "<polygon fill=\"blue\" stroke=\"blue\" points=\"87.76,-90.04 79.09,-96.12 89.66,-96.77 87.76,-90.04\"/>\n",
       "<text text-anchor=\"middle\" x=\"165.5\" y=\"-95.77\" font-family=\"Arial\" font-size=\"16.00\">p = 0.5 &#160;reward =1</text>\n",
       "</g>\n",
       "<!-- s0&#45;a1&#45;&gt;s1 -->\n",
       "<g id=\"edge5\" class=\"edge\">\n",
       "<title>s0&#45;a1&#45;&gt;s1</title>\n",
       "<path fill=\"none\" stroke=\"blue\" stroke-dasharray=\"5,2\" d=\"M305.86,-120.35C344.4,-121.98 416.42,-125.03 465.15,-127.09\"/>\n",
       "<polygon fill=\"blue\" stroke=\"blue\" points=\"464.74,-130.58 474.87,-127.51 465.03,-123.59 464.74,-130.58\"/>\n",
       "<text text-anchor=\"middle\" x=\"390.95\" y=\"-129.77\" font-family=\"Arial\" font-size=\"16.00\">p = 0.5 &#160;reward =&#45;1</text>\n",
       "</g>\n",
       "<!-- s1&#45;a0&#45;&gt;s0 -->\n",
       "<g id=\"edge8\" class=\"edge\">\n",
       "<title>s1&#45;a0&#45;&gt;s0</title>\n",
       "<path fill=\"none\" stroke=\"blue\" stroke-dasharray=\"5,2\" d=\"M738.17,-14.93C731.7,-12.17 724.57,-9.64 717.7,-8.22 655.34,4.61 637.99,-4.3 574.45,-8.22 361.48,-21.36 295.33,13.96 98,-67.22 91.48,-69.91 85.06,-73.55 79.02,-77.59\"/>\n",
       "<polygon fill=\"blue\" stroke=\"blue\" points=\"77.15,-74.62 71.1,-83.31 81.25,-80.29 77.15,-74.62\"/>\n",
       "<text text-anchor=\"middle\" x=\"390.95\" y=\"-16.77\" font-family=\"Arial\" font-size=\"16.00\">p = 0.5 &#160;reward =&#45;1</text>\n",
       "</g>\n",
       "<!-- s1&#45;a0&#45;&gt;s1 -->\n",
       "<g id=\"edge9\" class=\"edge\">\n",
       "<title>s1&#45;a0&#45;&gt;s1</title>\n",
       "<path fill=\"none\" stroke=\"blue\" stroke-dasharray=\"5,2\" d=\"M736.47,-19.68C698.34,-9.94 625.39,2.43 574.45,-27.47 554.83,-38.98 541.46,-59.98 532.62,-79.92\"/>\n",
       "<polygon fill=\"blue\" stroke=\"blue\" points=\"529.41,-78.53 528.86,-89.11 535.89,-81.18 529.41,-78.53\"/>\n",
       "<text text-anchor=\"middle\" x=\"646.07\" y=\"-31.77\" font-family=\"Arial\" font-size=\"16.00\">p = 0.5 &#160;reward =1</text>\n",
       "</g>\n",
       "<!-- s1&#45;a1&#45;&gt;s0 -->\n",
       "<g id=\"edge12\" class=\"edge\">\n",
       "<title>s1&#45;a1&#45;&gt;s0</title>\n",
       "<path fill=\"none\" stroke=\"blue\" stroke-dasharray=\"5,2\" d=\"M735.79,-106.05C696.89,-98.63 621.37,-85.3 556.45,-80.22 344.86,-63.69 128.41,-70.06 98,-78.22 93.15,-79.53 88.28,-81.35 83.55,-83.49\"/>\n",
       "<polygon fill=\"blue\" stroke=\"blue\" points=\"82.17,-80.26 74.82,-87.89 85.32,-86.52 82.17,-80.26\"/>\n",
       "<text text-anchor=\"middle\" x=\"390.95\" y=\"-77.77\" font-family=\"Arial\" font-size=\"16.00\">p = 0.5 &#160;reward =&#45;1</text>\n",
       "</g>\n",
       "<!-- s1&#45;a1&#45;&gt;s1 -->\n",
       "<g id=\"edge11\" class=\"edge\">\n",
       "<title>s1&#45;a1&#45;&gt;s1</title>\n",
       "<path fill=\"none\" stroke=\"blue\" stroke-dasharray=\"5,2\" d=\"M736.38,-118.54C730.3,-120.01 723.81,-121.37 717.7,-122.22 667.22,-129.3 608.92,-130.57 568.29,-130.36\"/>\n",
       "<polygon fill=\"blue\" stroke=\"blue\" points=\"568.34,-126.86 558.31,-130.27 568.28,-133.86 568.34,-126.86\"/>\n",
       "<text text-anchor=\"middle\" x=\"646.07\" y=\"-133.77\" font-family=\"Arial\" font-size=\"16.00\">p = 0.5 &#160;reward =1.1</text>\n",
       "</g>\n",
       "</g>\n",
       "</svg>\n"
      ],
      "text/plain": [
       "<graphviz.graphs.Digraph at 0x7fe5d0231f10>"
      ]
     },
     "metadata": {},
     "output_type": "display_data"
    }
   ],
   "source": [
    "transition_probs = {\n",
    "    's0': {\n",
    "        'a0': {'s0': 0.5, 's1': 0.5},\n",
    "        'a1': {'s1': 0.5, 's0': 0.5}\n",
    "    },\n",
    "    's1': {\n",
    "        'a0': {'s0': 0.5, 's1': 0.5},\n",
    "        'a1': {'s1': 0.5, 's0': 0.5}\n",
    "    },\n",
    "}\n",
    "rewards = {\n",
    "    's0': {'a0': {'s0': -1, 's1': 1}, 'a1': {'s0': 1, 's1': -1}},\n",
    "    's1': {'a0': {'s0': -1, 's1': 1}, 'a1': {'s0': -1, 's1': 1.1}}\n",
    "}\n",
    "from numpy import random\n",
    "mdp = MDP(transition_probs, rewards, initial_state='s1')\n",
    "display(plot_graph(mdp))"
   ]
  },
  {
   "cell_type": "code",
   "execution_count": 55,
   "metadata": {},
   "outputs": [
    {
     "name": "stdout",
     "output_type": "stream",
     "text": [
      "after iteration 2\n",
      "N actions changed = 1 \n",
      "\n",
      "after iteration 3\n",
      "N actions changed = 1 \n",
      "\n",
      "after iteration 8\n",
      "N actions changed = 1 \n",
      "\n",
      "after iteration 9\n",
      "N actions changed = 1 \n",
      "\n",
      "after iteration 11\n",
      "N actions changed = 1 \n",
      "\n",
      "after iteration 13\n",
      "N actions changed = 1 \n",
      "\n",
      "after iteration 15\n",
      "N actions changed = 1 \n",
      "\n",
      "after iteration 16\n",
      "N actions changed = 1 \n",
      "\n",
      "after iteration 38\n",
      "N actions changed = 1 \n",
      "\n",
      "after iteration 39\n",
      "N actions changed = 1 \n",
      "\n",
      "after iteration 44\n",
      "N actions changed = 1 \n",
      "\n",
      "after iteration 45\n",
      "N actions changed = 1 \n",
      "\n",
      "after iteration 46\n",
      "N actions changed = 1 \n",
      "\n",
      "after iteration 48\n",
      "N actions changed = 1 \n",
      "\n",
      "after iteration 55\n",
      "N actions changed = 1 \n",
      "\n",
      "after iteration 56\n",
      "N actions changed = 1 \n",
      "\n",
      "after iteration 58\n",
      "N actions changed = 1 \n",
      "\n",
      "after iteration 59\n",
      "N actions changed = 1 \n",
      "\n",
      "after iteration 62\n",
      "N actions changed = 1 \n",
      "\n",
      "after iteration 63\n",
      "N actions changed = 1 \n",
      "\n",
      "after iteration 65\n",
      "N actions changed = 1 \n",
      "\n",
      "after iteration 66\n",
      "N actions changed = 1 \n",
      "\n",
      "after iteration 67\n",
      "N actions changed = 1 \n",
      "\n",
      "after iteration 68\n",
      "N actions changed = 1 \n",
      "\n",
      "after iteration 70\n",
      "N actions changed = 1 \n",
      "\n",
      "after iteration 72\n",
      "N actions changed = 1 \n",
      "\n",
      "after iteration 81\n",
      "N actions changed = 1 \n",
      "\n",
      "after iteration 82\n",
      "N actions changed = 1 \n",
      "\n",
      "after iteration 85\n",
      "N actions changed = 1 \n",
      "\n",
      "after iteration 86\n",
      "N actions changed = 1 \n",
      "\n",
      "after iteration 87\n",
      "N actions changed = 1 \n",
      "\n",
      "after iteration 88\n",
      "N actions changed = 1 \n",
      "\n",
      "['a0' 'a1']\n"
     ]
    }
   ],
   "source": [
    "gamma=0.95\n",
    "state_values = {s: 0 for s in mdp.get_all_states()}\n",
    "policy = np.array([get_optimal_action(mdp, state_values, state, gamma)\n",
    "                   for state in sorted(mdp.get_all_states())])\n",
    "\n",
    "for i in range(100):\n",
    "    state_values = value_iteration(mdp, state_values, num_iter=1, silent=True, gamma=gamma)\n",
    "\n",
    "    new_policy = np.array([get_optimal_action(mdp, state_values, state, gamma)\n",
    "                           for state in sorted(mdp.get_all_states())])\n",
    "\n",
    "    n_changes = (policy != new_policy).sum()\n",
    "    if n_changes > 0:\n",
    "        print(\"after iteration %i\" % i)\n",
    "        print(\"N actions changed = %i \\n\" % n_changes)\n",
    "    policy = new_policy\n",
    "print(policy)\n",
    "# please ignore iter 0 at each step"
   ]
  }
 ],
 "metadata": {
  "kernelspec": {
   "display_name": "Python 3 (ipykernel)",
   "language": "python",
   "name": "python3"
  },
  "language_info": {
   "codemirror_mode": {
    "name": "ipython",
    "version": 3
   },
   "file_extension": ".py",
   "mimetype": "text/x-python",
   "name": "python",
   "nbconvert_exporter": "python",
   "pygments_lexer": "ipython3",
   "version": "3.11.6"
  }
 },
 "nbformat": 4,
 "nbformat_minor": 4
}
